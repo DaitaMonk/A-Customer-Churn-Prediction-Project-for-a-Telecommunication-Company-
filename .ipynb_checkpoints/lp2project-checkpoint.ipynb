{
 "cells": [
  {
   "cell_type": "markdown",
   "metadata": {},
   "source": [
    "# <center>Churn Analysis and Customer Retention Strategies for a Telecommunication Company</center>"
   ]
  },
  {
   "cell_type": "markdown",
   "metadata": {},
   "source": [
    "##  Business Understanding\n",
    "\n",
    "### Background\n",
    "The telecommunication industry is highly competitive, with companies vying for customers' attention and loyalty. One of the significant challenges faced by telecommunication companies is customer churn, which refers to the rate at which customers stop using their services and switch to competitors. Customer churn can have a detrimental impact on a company's revenue and profitability, as acquiring new customers is often more costly than retaining existing ones. To address this challenge, this project aims to assist a telecommunication company in analyzing customer churn patterns, identifying factors influencing churn, and developing effective customer retention strategies by leveraging machine learning techniques."
   ]
  },
  {
   "cell_type": "markdown",
   "metadata": {},
   "source": [
    "###  Business Objective\n",
    "The primary objective of this churn analysis project is to help the telecommunication company reduce customer churn and enhance customer retention through data-driven insights and predictive modeling to ultimately achieve higher revenue and profitability."
   ]
  },
  {
   "cell_type": "markdown",
   "metadata": {},
   "source": [
    "###  Hypothesis\n",
    "\n",
    "\n",
    "**Null Hypothesis (H0):** The monthly charges do not have a significant impact on the churn. \n",
    "\n",
    "**Alternative Hypothesis (H1):** The monthly charges significantly impact the churn. \n",
    "\n"
   ]
  },
  {
   "cell_type": "markdown",
   "metadata": {},
   "source": [
    " ### Questions\n",
    "1.  Which gender exhibited the highest churn?\n",
    "2.\tHow does the churn vary based on different contract types? \n",
    "3.\tWhich internet service type has the highest churn? \n",
    "4.\tDoes the presence of dependents affect customer churn? \n",
    "5.\tAre customers with higher monthly charges more likely to churn? \n",
    "6.\tIs there a correlation between senior citizens and churn?\n",
    "7.\tDo paperless billing and payment methods influence churn? \n"
   ]
  },
  {
   "cell_type": "markdown",
   "metadata": {},
   "source": [
    "### Install required packages\n"
   ]
  },
  {
   "cell_type": "code",
   "execution_count": 71,
   "metadata": {
    "tags": []
   },
   "outputs": [],
   "source": [
    "#Import all the necessary packages\n",
    "import pyodbc \n",
    "from dotenv import dotenv_values #import the dotenv_values function from the dotenv package\n",
    "import pandas as pd\n",
    "import warnings \n",
    "warnings.filterwarnings('ignore')\n",
    "import numpy as np\n",
    "import seaborn as sns\n",
    "import matplotlib.pyplot as plt\n",
    "from sklearn.impute import SimpleImputer\n",
    "from sklearn.preprocessing import StandardScaler, OneHotEncoder\n",
    "from sklearn.compose import ColumnTransformer\n",
    "from sklearn.compose import make_column_transformer\n",
    "from sklearn.model_selection import cross_val_score\n",
    "from pandas_profiling import ProfileReport\n",
    "from scipy.stats import chi2_contingency\n",
    "from sklearn.model_selection import train_test_split\n",
    "from sklearn.pipeline import Pipeline\n",
    "from sklearn.metrics import classification_report\n",
    "\n",
    "#model evaluation\n",
    "from sklearn.metrics import classification_report, fbeta_score, make_scorer\n",
    "from sklearn.metrics import precision_score, recall_score, f1_score\n",
    "\n",
    "# Models\n",
    "from sklearn.linear_model import LogisticRegression\n",
    "from sklearn.tree import DecisionTreeClassifier\n",
    "from sklearn.ensemble import RandomForestClassifier\n",
    "from sklearn.svm import SVC\n",
    "from sklearn.neighbors import KNeighborsClassifier\n",
    "\n",
    "\n",
    "from imblearn.over_sampling import SMOTE\n",
    "from imblearn.pipeline import Pipeline as ImblearnPipeline\n",
    "from imblearn.over_sampling import RandomOverSampler\n",
    "\n",
    "\n",
    "from sklearn.model_selection import cross_val_score\n",
    "from sklearn.model_selection import StratifiedKFold\n",
    "\n",
    "pd.set_option('display.max_rows', None)\n",
    "pd.set_option('display.max_columns', None)"
   ]
  },
  {
   "cell_type": "markdown",
   "metadata": {},
   "source": [
    "### Create a connection by accessing connection string with defined environment variables\n"
   ]
  },
  {
   "cell_type": "code",
   "execution_count": 2,
   "metadata": {
    "tags": []
   },
   "outputs": [],
   "source": [
    "# Load environment variables from .env file into a dictionary\n",
    "# environment_variables = dotenv_values('.env')"
   ]
  },
  {
   "cell_type": "code",
   "execution_count": 3,
   "metadata": {
    "tags": []
   },
   "outputs": [],
   "source": [
    "# # Get the values for the credentials you set in the '.env' file\n",
    "# database = environment_variables.get(\"DATABASE\")\n",
    "# server = environment_variables.get(\"SERVER\")\n",
    "# username = environment_variables.get(\"USERNAME\")\n",
    "# password = environment_variables.get(\"PASSWORD\")\n",
    "\n",
    "# connection_string = f\"DRIVER={{SQL Server}};SERVER={server};DATABASE={database};UID={username};PWD={password}\"\n"
   ]
  },
  {
   "cell_type": "code",
   "execution_count": 4,
   "metadata": {
    "tags": []
   },
   "outputs": [],
   "source": [
    "# # Use the connect method of the pyodbc library and pass in the connection string.\n",
    "# connection = pyodbc.connect(connection_string)"
   ]
  },
  {
   "cell_type": "code",
   "execution_count": 5,
   "metadata": {
    "tags": []
   },
   "outputs": [],
   "source": [
    "# # Now the sql query to get the data is what what you see below. \n",
    "# query = \"Select * from dbo.LP2_Telco_churn_first_3000\""
   ]
  },
  {
   "cell_type": "markdown",
   "metadata": {},
   "source": [
    "## Data Understanding"
   ]
  },
  {
   "cell_type": "markdown",
   "metadata": {},
   "source": [
    "\n",
    "\n",
    "###  Resources availability \n",
    "Data for this project\n",
    "\n",
    "In this project, the dataset resides in 3 places. For ease of access and security we have made the datasets available there in the GitHub Repository \n",
    "\n",
    "- First Data Set\n",
    "\n",
    "The data called LP2_Telco_churn_First_3000 was extracted from a database.\n",
    "\n",
    "- Second Data Set\n",
    "\n",
    "The data called Telco-churn-second-2000.xlsx was found in OneDrive which is our test dataset\n",
    "\n",
    "- Third Data Set\n",
    "\n",
    "The third part of the data called LP2_Telco-churn-last-2000.csv. is hosted on a GitHub Repository \n"
   ]
  },
  {
   "cell_type": "markdown",
   "metadata": {},
   "source": [
    "###  Column names and description\n",
    "**Gender** -- Whether the customer is a male or a female\n",
    "\n",
    "**SeniorCitizen** -- Whether a customer is a senior citizen or not\n",
    "\n",
    "**Partner** -- Whether the customer has a partner or not (Yes, No)\n",
    "\n",
    "**Dependents** -- Whether the customer has dependents or not (Yes, No)\n",
    "\n",
    "**Tenure** -- Number of months the customer has stayed with the company\n",
    "\n",
    "**Phone Service** -- Whether the customer has a phone service or not\n",
    "(Yes, No)\n",
    "\n",
    "**MultipleLines** -- Whether the customer has multiple lines or not\n",
    "\n",
    "**InternetService** -- Customer's internet service provider (DSL, Fiber\n",
    "Optic, No)\n",
    "\n",
    "**OnlineSecurity** -- Whether the customer has online security or not\n",
    "(Yes, No, No Internet)\n",
    "\n",
    "**OnlineBackup** -- Whether the customer has online backup or not (Yes,\n",
    "No, No Internet)\n",
    "\n",
    "**DeviceProtection** -- Whether the customer has device protection or\n",
    "not (Yes, No, No internet service)\n",
    "\n",
    "**TechSupport** -- Whether the customer has tech support or not (Yes,\n",
    "No, No internet)\n",
    "\n",
    "**StreamingTV** -- Whether the customer has streaming TV or not (Yes,\n",
    "No, No internet service)\n",
    "\n",
    "**StreamingMovies** -- Whether the customer has streaming movies or not\n",
    "(Yes, No, No Internet service)\n",
    "\n",
    "**Contract** -- The contract term of the customer (Month-to-Month, One\n",
    "year, Two year)\n",
    "\n",
    "**PaperlessBilling** -- Whether the customer has paperless billing or\n",
    "not (Yes, No)\n",
    "\n",
    "**Payment Method** -- The customer's payment method (Electronic check,\n",
    "mailed check, Bank transfer(automatic), Credit card(automatic))\n",
    "\n",
    "**MonthlyCharges** -- The amount charged to the customer monthly\n",
    "\n",
    "**TotalCharges** -- The total amount charged to the customer\n",
    "\n",
    "**Churn** -- Whether the customer churned or not (Yes or No)\n"
   ]
  },
  {
   "cell_type": "markdown",
   "metadata": {},
   "source": [
    "### Data Loading"
   ]
  },
  {
   "cell_type": "code",
   "execution_count": 6,
   "metadata": {
    "tags": []
   },
   "outputs": [],
   "source": [
    "# data=pd.read_sql(query,connection)\n",
    "# data.to_csv(\"data0.csv\", index=False)\n",
    "data = pd.read_csv(\"data0.csv\")\n",
    "data1=pd.read_csv(\"LP2_Telco-churn-last-2000.csv\")\n",
    "data2=pd.read_excel(\"Telco-churn-second-2000.xlsx\")"
   ]
  },
  {
   "cell_type": "markdown",
   "metadata": {},
   "source": [
    "## Exploratory Data Analysis\n",
    "Here we will analyze and investigate data sets and summarize their characteristics by using data visualization,\n",
    "also since we will concatenate all the data sets after cleaning we will rename the colums after cleaning each dataset"
   ]
  },
  {
   "cell_type": "markdown",
   "metadata": {},
   "source": [
    "### EDA On Telco Churn 3000"
   ]
  },
  {
   "cell_type": "code",
   "execution_count": 7,
   "metadata": {
    "tags": []
   },
   "outputs": [
    {
     "data": {
      "text/html": [
       "<div>\n",
       "<style scoped>\n",
       "    .dataframe tbody tr th:only-of-type {\n",
       "        vertical-align: middle;\n",
       "    }\n",
       "\n",
       "    .dataframe tbody tr th {\n",
       "        vertical-align: top;\n",
       "    }\n",
       "\n",
       "    .dataframe thead th {\n",
       "        text-align: right;\n",
       "    }\n",
       "</style>\n",
       "<table border=\"1\" class=\"dataframe\">\n",
       "  <thead>\n",
       "    <tr style=\"text-align: right;\">\n",
       "      <th></th>\n",
       "      <th>customerID</th>\n",
       "      <th>gender</th>\n",
       "      <th>SeniorCitizen</th>\n",
       "      <th>Partner</th>\n",
       "      <th>Dependents</th>\n",
       "      <th>tenure</th>\n",
       "      <th>PhoneService</th>\n",
       "      <th>MultipleLines</th>\n",
       "      <th>InternetService</th>\n",
       "      <th>OnlineSecurity</th>\n",
       "      <th>OnlineBackup</th>\n",
       "      <th>DeviceProtection</th>\n",
       "      <th>TechSupport</th>\n",
       "      <th>StreamingTV</th>\n",
       "      <th>StreamingMovies</th>\n",
       "      <th>Contract</th>\n",
       "      <th>PaperlessBilling</th>\n",
       "      <th>PaymentMethod</th>\n",
       "      <th>MonthlyCharges</th>\n",
       "      <th>TotalCharges</th>\n",
       "      <th>Churn</th>\n",
       "    </tr>\n",
       "  </thead>\n",
       "  <tbody>\n",
       "    <tr>\n",
       "      <th>0</th>\n",
       "      <td>7590-VHVEG</td>\n",
       "      <td>Female</td>\n",
       "      <td>False</td>\n",
       "      <td>True</td>\n",
       "      <td>False</td>\n",
       "      <td>1</td>\n",
       "      <td>False</td>\n",
       "      <td>NaN</td>\n",
       "      <td>DSL</td>\n",
       "      <td>False</td>\n",
       "      <td>True</td>\n",
       "      <td>False</td>\n",
       "      <td>False</td>\n",
       "      <td>False</td>\n",
       "      <td>False</td>\n",
       "      <td>Month-to-month</td>\n",
       "      <td>True</td>\n",
       "      <td>Electronic check</td>\n",
       "      <td>29.850000</td>\n",
       "      <td>29.850000</td>\n",
       "      <td>False</td>\n",
       "    </tr>\n",
       "    <tr>\n",
       "      <th>1</th>\n",
       "      <td>5575-GNVDE</td>\n",
       "      <td>Male</td>\n",
       "      <td>False</td>\n",
       "      <td>False</td>\n",
       "      <td>False</td>\n",
       "      <td>34</td>\n",
       "      <td>True</td>\n",
       "      <td>False</td>\n",
       "      <td>DSL</td>\n",
       "      <td>True</td>\n",
       "      <td>False</td>\n",
       "      <td>True</td>\n",
       "      <td>False</td>\n",
       "      <td>False</td>\n",
       "      <td>False</td>\n",
       "      <td>One year</td>\n",
       "      <td>False</td>\n",
       "      <td>Mailed check</td>\n",
       "      <td>56.950001</td>\n",
       "      <td>1889.500000</td>\n",
       "      <td>False</td>\n",
       "    </tr>\n",
       "    <tr>\n",
       "      <th>2</th>\n",
       "      <td>3668-QPYBK</td>\n",
       "      <td>Male</td>\n",
       "      <td>False</td>\n",
       "      <td>False</td>\n",
       "      <td>False</td>\n",
       "      <td>2</td>\n",
       "      <td>True</td>\n",
       "      <td>False</td>\n",
       "      <td>DSL</td>\n",
       "      <td>True</td>\n",
       "      <td>True</td>\n",
       "      <td>False</td>\n",
       "      <td>False</td>\n",
       "      <td>False</td>\n",
       "      <td>False</td>\n",
       "      <td>Month-to-month</td>\n",
       "      <td>True</td>\n",
       "      <td>Mailed check</td>\n",
       "      <td>53.849998</td>\n",
       "      <td>108.150002</td>\n",
       "      <td>True</td>\n",
       "    </tr>\n",
       "    <tr>\n",
       "      <th>3</th>\n",
       "      <td>7795-CFOCW</td>\n",
       "      <td>Male</td>\n",
       "      <td>False</td>\n",
       "      <td>False</td>\n",
       "      <td>False</td>\n",
       "      <td>45</td>\n",
       "      <td>False</td>\n",
       "      <td>NaN</td>\n",
       "      <td>DSL</td>\n",
       "      <td>True</td>\n",
       "      <td>False</td>\n",
       "      <td>True</td>\n",
       "      <td>True</td>\n",
       "      <td>False</td>\n",
       "      <td>False</td>\n",
       "      <td>One year</td>\n",
       "      <td>False</td>\n",
       "      <td>Bank transfer (automatic)</td>\n",
       "      <td>42.299999</td>\n",
       "      <td>1840.750000</td>\n",
       "      <td>False</td>\n",
       "    </tr>\n",
       "    <tr>\n",
       "      <th>4</th>\n",
       "      <td>9237-HQITU</td>\n",
       "      <td>Female</td>\n",
       "      <td>False</td>\n",
       "      <td>False</td>\n",
       "      <td>False</td>\n",
       "      <td>2</td>\n",
       "      <td>True</td>\n",
       "      <td>False</td>\n",
       "      <td>Fiber optic</td>\n",
       "      <td>False</td>\n",
       "      <td>False</td>\n",
       "      <td>False</td>\n",
       "      <td>False</td>\n",
       "      <td>False</td>\n",
       "      <td>False</td>\n",
       "      <td>Month-to-month</td>\n",
       "      <td>True</td>\n",
       "      <td>Electronic check</td>\n",
       "      <td>70.699997</td>\n",
       "      <td>151.649994</td>\n",
       "      <td>True</td>\n",
       "    </tr>\n",
       "  </tbody>\n",
       "</table>\n",
       "</div>"
      ],
      "text/plain": [
       "   customerID  gender  SeniorCitizen  Partner  Dependents  tenure  \\\n",
       "0  7590-VHVEG  Female          False     True       False       1   \n",
       "1  5575-GNVDE    Male          False    False       False      34   \n",
       "2  3668-QPYBK    Male          False    False       False       2   \n",
       "3  7795-CFOCW    Male          False    False       False      45   \n",
       "4  9237-HQITU  Female          False    False       False       2   \n",
       "\n",
       "   PhoneService MultipleLines InternetService OnlineSecurity OnlineBackup  \\\n",
       "0         False           NaN             DSL          False         True   \n",
       "1          True         False             DSL           True        False   \n",
       "2          True         False             DSL           True         True   \n",
       "3         False           NaN             DSL           True        False   \n",
       "4          True         False     Fiber optic          False        False   \n",
       "\n",
       "  DeviceProtection TechSupport StreamingTV StreamingMovies        Contract  \\\n",
       "0            False       False       False           False  Month-to-month   \n",
       "1             True       False       False           False        One year   \n",
       "2            False       False       False           False  Month-to-month   \n",
       "3             True        True       False           False        One year   \n",
       "4            False       False       False           False  Month-to-month   \n",
       "\n",
       "   PaperlessBilling              PaymentMethod  MonthlyCharges  TotalCharges  \\\n",
       "0              True           Electronic check       29.850000     29.850000   \n",
       "1             False               Mailed check       56.950001   1889.500000   \n",
       "2              True               Mailed check       53.849998    108.150002   \n",
       "3             False  Bank transfer (automatic)       42.299999   1840.750000   \n",
       "4              True           Electronic check       70.699997    151.649994   \n",
       "\n",
       "   Churn  \n",
       "0  False  \n",
       "1  False  \n",
       "2   True  \n",
       "3  False  \n",
       "4   True  "
      ]
     },
     "execution_count": 7,
     "metadata": {},
     "output_type": "execute_result"
    }
   ],
   "source": [
    "#view the data set\n",
    "data.head()"
   ]
  },
  {
   "cell_type": "code",
   "execution_count": 8,
   "metadata": {
    "tags": []
   },
   "outputs": [
    {
     "name": "stdout",
     "output_type": "stream",
     "text": [
      "<class 'pandas.core.frame.DataFrame'>\n",
      "RangeIndex: 3000 entries, 0 to 2999\n",
      "Data columns (total 21 columns):\n",
      " #   Column            Non-Null Count  Dtype  \n",
      "---  ------            --------------  -----  \n",
      " 0   customerID        3000 non-null   object \n",
      " 1   gender            3000 non-null   object \n",
      " 2   SeniorCitizen     3000 non-null   bool   \n",
      " 3   Partner           3000 non-null   bool   \n",
      " 4   Dependents        3000 non-null   bool   \n",
      " 5   tenure            3000 non-null   int64  \n",
      " 6   PhoneService      3000 non-null   bool   \n",
      " 7   MultipleLines     2731 non-null   object \n",
      " 8   InternetService   3000 non-null   object \n",
      " 9   OnlineSecurity    2349 non-null   object \n",
      " 10  OnlineBackup      2349 non-null   object \n",
      " 11  DeviceProtection  2349 non-null   object \n",
      " 12  TechSupport       2349 non-null   object \n",
      " 13  StreamingTV       2349 non-null   object \n",
      " 14  StreamingMovies   2349 non-null   object \n",
      " 15  Contract          3000 non-null   object \n",
      " 16  PaperlessBilling  3000 non-null   bool   \n",
      " 17  PaymentMethod     3000 non-null   object \n",
      " 18  MonthlyCharges    3000 non-null   float64\n",
      " 19  TotalCharges      2995 non-null   float64\n",
      " 20  Churn             2999 non-null   object \n",
      "dtypes: bool(5), float64(2), int64(1), object(13)\n",
      "memory usage: 389.8+ KB\n"
     ]
    }
   ],
   "source": [
    "#General info of the dataset\n",
    "data.info()"
   ]
  },
  {
   "cell_type": "markdown",
   "metadata": {},
   "source": [
    " "
   ]
  },
  {
   "cell_type": "code",
   "execution_count": 9,
   "metadata": {
    "tags": []
   },
   "outputs": [
    {
     "data": {
      "text/plain": [
       "customerID            0\n",
       "gender                0\n",
       "SeniorCitizen         0\n",
       "Partner               0\n",
       "Dependents            0\n",
       "tenure                0\n",
       "PhoneService          0\n",
       "MultipleLines       269\n",
       "InternetService       0\n",
       "OnlineSecurity      651\n",
       "OnlineBackup        651\n",
       "DeviceProtection    651\n",
       "TechSupport         651\n",
       "StreamingTV         651\n",
       "StreamingMovies     651\n",
       "Contract              0\n",
       "PaperlessBilling      0\n",
       "PaymentMethod         0\n",
       "MonthlyCharges        0\n",
       "TotalCharges          5\n",
       "Churn                 1\n",
       "dtype: int64"
      ]
     },
     "execution_count": 9,
     "metadata": {},
     "output_type": "execute_result"
    }
   ],
   "source": [
    "#view number of missing values\n",
    "data.isnull().sum()"
   ]
  },
  {
   "cell_type": "markdown",
   "metadata": {},
   "source": [
    "#### Notes on data (Telco churn First 3000)\n",
    "* We have a total of 3000 rows\n",
    "* We have a total of 21 columns\n",
    "* Our target variable has yes/no attributes, therefore it is a binary classification problem\n",
    "* Online Security,Online Backup,Device Protection,tech support,streamin tv,streaming movies al have 651 missing values and multiple lines has 269 missing values\n"
   ]
  },
  {
   "cell_type": "markdown",
   "metadata": {},
   "source": [
    "### EDA On Telco Churn last 2000"
   ]
  },
  {
   "cell_type": "code",
   "execution_count": 10,
   "metadata": {
    "tags": []
   },
   "outputs": [
    {
     "data": {
      "text/html": [
       "<div>\n",
       "<style scoped>\n",
       "    .dataframe tbody tr th:only-of-type {\n",
       "        vertical-align: middle;\n",
       "    }\n",
       "\n",
       "    .dataframe tbody tr th {\n",
       "        vertical-align: top;\n",
       "    }\n",
       "\n",
       "    .dataframe thead th {\n",
       "        text-align: right;\n",
       "    }\n",
       "</style>\n",
       "<table border=\"1\" class=\"dataframe\">\n",
       "  <thead>\n",
       "    <tr style=\"text-align: right;\">\n",
       "      <th></th>\n",
       "      <th>customerID</th>\n",
       "      <th>gender</th>\n",
       "      <th>SeniorCitizen</th>\n",
       "      <th>Partner</th>\n",
       "      <th>Dependents</th>\n",
       "      <th>tenure</th>\n",
       "      <th>PhoneService</th>\n",
       "      <th>MultipleLines</th>\n",
       "      <th>InternetService</th>\n",
       "      <th>OnlineSecurity</th>\n",
       "      <th>OnlineBackup</th>\n",
       "      <th>DeviceProtection</th>\n",
       "      <th>TechSupport</th>\n",
       "      <th>StreamingTV</th>\n",
       "      <th>StreamingMovies</th>\n",
       "      <th>Contract</th>\n",
       "      <th>PaperlessBilling</th>\n",
       "      <th>PaymentMethod</th>\n",
       "      <th>MonthlyCharges</th>\n",
       "      <th>TotalCharges</th>\n",
       "      <th>Churn</th>\n",
       "    </tr>\n",
       "  </thead>\n",
       "  <tbody>\n",
       "    <tr>\n",
       "      <th>0</th>\n",
       "      <td>5600-PDUJF</td>\n",
       "      <td>Male</td>\n",
       "      <td>0</td>\n",
       "      <td>No</td>\n",
       "      <td>No</td>\n",
       "      <td>6</td>\n",
       "      <td>Yes</td>\n",
       "      <td>No</td>\n",
       "      <td>DSL</td>\n",
       "      <td>No</td>\n",
       "      <td>No</td>\n",
       "      <td>No</td>\n",
       "      <td>Yes</td>\n",
       "      <td>No</td>\n",
       "      <td>No</td>\n",
       "      <td>Month-to-month</td>\n",
       "      <td>Yes</td>\n",
       "      <td>Credit card (automatic)</td>\n",
       "      <td>49.50</td>\n",
       "      <td>312.7</td>\n",
       "      <td>No</td>\n",
       "    </tr>\n",
       "    <tr>\n",
       "      <th>1</th>\n",
       "      <td>8292-TYSPY</td>\n",
       "      <td>Male</td>\n",
       "      <td>0</td>\n",
       "      <td>No</td>\n",
       "      <td>No</td>\n",
       "      <td>19</td>\n",
       "      <td>Yes</td>\n",
       "      <td>No</td>\n",
       "      <td>DSL</td>\n",
       "      <td>No</td>\n",
       "      <td>No</td>\n",
       "      <td>Yes</td>\n",
       "      <td>Yes</td>\n",
       "      <td>No</td>\n",
       "      <td>No</td>\n",
       "      <td>Month-to-month</td>\n",
       "      <td>Yes</td>\n",
       "      <td>Credit card (automatic)</td>\n",
       "      <td>55.00</td>\n",
       "      <td>1046.5</td>\n",
       "      <td>Yes</td>\n",
       "    </tr>\n",
       "    <tr>\n",
       "      <th>2</th>\n",
       "      <td>0567-XRHCU</td>\n",
       "      <td>Female</td>\n",
       "      <td>0</td>\n",
       "      <td>Yes</td>\n",
       "      <td>Yes</td>\n",
       "      <td>69</td>\n",
       "      <td>No</td>\n",
       "      <td>No phone service</td>\n",
       "      <td>DSL</td>\n",
       "      <td>Yes</td>\n",
       "      <td>No</td>\n",
       "      <td>Yes</td>\n",
       "      <td>No</td>\n",
       "      <td>No</td>\n",
       "      <td>Yes</td>\n",
       "      <td>Two year</td>\n",
       "      <td>Yes</td>\n",
       "      <td>Credit card (automatic)</td>\n",
       "      <td>43.95</td>\n",
       "      <td>2960.1</td>\n",
       "      <td>No</td>\n",
       "    </tr>\n",
       "    <tr>\n",
       "      <th>3</th>\n",
       "      <td>1867-BDVFH</td>\n",
       "      <td>Male</td>\n",
       "      <td>0</td>\n",
       "      <td>Yes</td>\n",
       "      <td>Yes</td>\n",
       "      <td>11</td>\n",
       "      <td>Yes</td>\n",
       "      <td>Yes</td>\n",
       "      <td>Fiber optic</td>\n",
       "      <td>No</td>\n",
       "      <td>No</td>\n",
       "      <td>No</td>\n",
       "      <td>No</td>\n",
       "      <td>No</td>\n",
       "      <td>No</td>\n",
       "      <td>Month-to-month</td>\n",
       "      <td>Yes</td>\n",
       "      <td>Electronic check</td>\n",
       "      <td>74.35</td>\n",
       "      <td>834.2</td>\n",
       "      <td>Yes</td>\n",
       "    </tr>\n",
       "    <tr>\n",
       "      <th>4</th>\n",
       "      <td>2067-QYTCF</td>\n",
       "      <td>Female</td>\n",
       "      <td>0</td>\n",
       "      <td>Yes</td>\n",
       "      <td>No</td>\n",
       "      <td>64</td>\n",
       "      <td>Yes</td>\n",
       "      <td>Yes</td>\n",
       "      <td>Fiber optic</td>\n",
       "      <td>No</td>\n",
       "      <td>Yes</td>\n",
       "      <td>Yes</td>\n",
       "      <td>Yes</td>\n",
       "      <td>Yes</td>\n",
       "      <td>Yes</td>\n",
       "      <td>Month-to-month</td>\n",
       "      <td>Yes</td>\n",
       "      <td>Electronic check</td>\n",
       "      <td>111.15</td>\n",
       "      <td>6953.4</td>\n",
       "      <td>No</td>\n",
       "    </tr>\n",
       "  </tbody>\n",
       "</table>\n",
       "</div>"
      ],
      "text/plain": [
       "   customerID  gender  SeniorCitizen Partner Dependents  tenure PhoneService  \\\n",
       "0  5600-PDUJF    Male              0      No         No       6          Yes   \n",
       "1  8292-TYSPY    Male              0      No         No      19          Yes   \n",
       "2  0567-XRHCU  Female              0     Yes        Yes      69           No   \n",
       "3  1867-BDVFH    Male              0     Yes        Yes      11          Yes   \n",
       "4  2067-QYTCF  Female              0     Yes         No      64          Yes   \n",
       "\n",
       "      MultipleLines InternetService OnlineSecurity OnlineBackup  \\\n",
       "0                No             DSL             No           No   \n",
       "1                No             DSL             No           No   \n",
       "2  No phone service             DSL            Yes           No   \n",
       "3               Yes     Fiber optic             No           No   \n",
       "4               Yes     Fiber optic             No          Yes   \n",
       "\n",
       "  DeviceProtection TechSupport StreamingTV StreamingMovies        Contract  \\\n",
       "0               No         Yes          No              No  Month-to-month   \n",
       "1              Yes         Yes          No              No  Month-to-month   \n",
       "2              Yes          No          No             Yes        Two year   \n",
       "3               No          No          No              No  Month-to-month   \n",
       "4              Yes         Yes         Yes             Yes  Month-to-month   \n",
       "\n",
       "  PaperlessBilling            PaymentMethod  MonthlyCharges TotalCharges Churn  \n",
       "0              Yes  Credit card (automatic)           49.50        312.7    No  \n",
       "1              Yes  Credit card (automatic)           55.00       1046.5   Yes  \n",
       "2              Yes  Credit card (automatic)           43.95       2960.1    No  \n",
       "3              Yes         Electronic check           74.35        834.2   Yes  \n",
       "4              Yes         Electronic check          111.15       6953.4    No  "
      ]
     },
     "execution_count": 10,
     "metadata": {},
     "output_type": "execute_result"
    }
   ],
   "source": [
    "# view data set\n",
    "data1.head()"
   ]
  },
  {
   "cell_type": "code",
   "execution_count": 11,
   "metadata": {},
   "outputs": [
    {
     "name": "stdout",
     "output_type": "stream",
     "text": [
      "<class 'pandas.core.frame.DataFrame'>\n",
      "RangeIndex: 2043 entries, 0 to 2042\n",
      "Data columns (total 21 columns):\n",
      " #   Column            Non-Null Count  Dtype  \n",
      "---  ------            --------------  -----  \n",
      " 0   customerID        2043 non-null   object \n",
      " 1   gender            2043 non-null   object \n",
      " 2   SeniorCitizen     2043 non-null   int64  \n",
      " 3   Partner           2043 non-null   object \n",
      " 4   Dependents        2043 non-null   object \n",
      " 5   tenure            2043 non-null   int64  \n",
      " 6   PhoneService      2043 non-null   object \n",
      " 7   MultipleLines     2043 non-null   object \n",
      " 8   InternetService   2043 non-null   object \n",
      " 9   OnlineSecurity    2043 non-null   object \n",
      " 10  OnlineBackup      2043 non-null   object \n",
      " 11  DeviceProtection  2043 non-null   object \n",
      " 12  TechSupport       2043 non-null   object \n",
      " 13  StreamingTV       2043 non-null   object \n",
      " 14  StreamingMovies   2043 non-null   object \n",
      " 15  Contract          2043 non-null   object \n",
      " 16  PaperlessBilling  2043 non-null   object \n",
      " 17  PaymentMethod     2043 non-null   object \n",
      " 18  MonthlyCharges    2043 non-null   float64\n",
      " 19  TotalCharges      2043 non-null   object \n",
      " 20  Churn             2043 non-null   object \n",
      "dtypes: float64(1), int64(2), object(18)\n",
      "memory usage: 335.3+ KB\n"
     ]
    }
   ],
   "source": [
    "#General info\n",
    "data1.info()"
   ]
  },
  {
   "cell_type": "markdown",
   "metadata": {},
   "source": [
    " "
   ]
  },
  {
   "cell_type": "code",
   "execution_count": 12,
   "metadata": {},
   "outputs": [
    {
     "data": {
      "text/plain": [
       "(2043, 21)"
      ]
     },
     "execution_count": 12,
     "metadata": {},
     "output_type": "execute_result"
    }
   ],
   "source": [
    "#check number of rows and columns\n",
    "data1.shape"
   ]
  },
  {
   "cell_type": "markdown",
   "metadata": {},
   "source": [
    " "
   ]
  },
  {
   "cell_type": "code",
   "execution_count": 13,
   "metadata": {
    "tags": []
   },
   "outputs": [
    {
     "data": {
      "text/plain": [
       "customerID          0\n",
       "gender              0\n",
       "SeniorCitizen       0\n",
       "Partner             0\n",
       "Dependents          0\n",
       "tenure              0\n",
       "PhoneService        0\n",
       "MultipleLines       0\n",
       "InternetService     0\n",
       "OnlineSecurity      0\n",
       "OnlineBackup        0\n",
       "DeviceProtection    0\n",
       "TechSupport         0\n",
       "StreamingTV         0\n",
       "StreamingMovies     0\n",
       "Contract            0\n",
       "PaperlessBilling    0\n",
       "PaymentMethod       0\n",
       "MonthlyCharges      0\n",
       "TotalCharges        0\n",
       "Churn               0\n",
       "dtype: int64"
      ]
     },
     "execution_count": 13,
     "metadata": {},
     "output_type": "execute_result"
    }
   ],
   "source": [
    "#check number of missing values for each column\n",
    "data1.isnull().sum()"
   ]
  },
  {
   "cell_type": "markdown",
   "metadata": {
    "tags": []
   },
   "source": [
    "## Note on csv dataset (dara1)\n",
    "There are 2043 rows and 21 columns, in the dataset. The data types include Object (18 columns) Integer (2 columns) and Float64 (1 column). We should note that the \"TotalCharges\" column is currently in object format so it may require conversion to a type. It's good to know that there are no missing values, in any of the columns.\n",
    "\n",
    "Based on the output it seems that there are no values, in the columns of the DataFrame \"data1.\" Every column contains zero missing values indicating that the dataset is complete and does not have any values. This is an indication as it makes data analysis simpler and guarantees data integrity, for processing or modeling purposes.\n"
   ]
  },
  {
   "cell_type": "markdown",
   "metadata": {},
   "source": [
    " "
   ]
  },
  {
   "cell_type": "markdown",
   "metadata": {},
   "source": [
    " "
   ]
  },
  {
   "cell_type": "markdown",
   "metadata": {
    "tags": []
   },
   "source": [
    "## To compare unique values in each column and count in data and data1 dataset"
   ]
  },
  {
   "cell_type": "code",
   "execution_count": 14,
   "metadata": {
    "tags": []
   },
   "outputs": [
    {
     "name": "stdout",
     "output_type": "stream",
     "text": [
      "Value counts for gender:                 Value counts for gender:                \n",
      "Male                      1537          Male                      1022\n",
      "Female                    1463          Female                    1021\n",
      "\n",
      "Value counts for SeniorCitizen:          Value counts for SeniorCitizen:         \n",
      "False                     2525          False                     0\n",
      "True                      475           True                      0\n",
      "                          0              0                         1699\n",
      "                          0              1                         344\n",
      "\n",
      "Value counts for Partner:                Value counts for Partner:               \n",
      "False                     1538          False                     0\n",
      "True                      1462          True                      0\n",
      "                          0              No                        1047\n",
      "                          0              Yes                       996\n",
      "\n",
      "Value counts for Dependents:             Value counts for Dependents:            \n",
      "False                     2070          False                     0\n",
      "True                      930           True                      0\n",
      "                          0              No                        1412\n",
      "                          0              Yes                       631\n",
      "\n",
      "Value counts for PhoneService:           Value counts for PhoneService:          \n",
      "True                      2731          True                      0\n",
      "False                     269           False                     0\n",
      "                          0              Yes                       1823\n",
      "                          0              No                        220\n",
      "\n",
      "Value counts for MultipleLines:          Value counts for MultipleLines:         \n",
      "False                     1437          False                     0\n",
      "True                      1294          True                      0\n",
      "                          0              No                        987\n",
      "                          0              Yes                       836\n",
      "                          0              No phone service          220\n",
      "\n",
      "Value counts for OnlineSecurity:         Value counts for OnlineSecurity:        \n",
      "False                     1478          False                     0\n",
      "True                      871           True                      0\n",
      "                          0              No                        1029\n",
      "                          0              Yes                       585\n",
      "                          0              No internet service       429\n",
      "\n",
      "Value counts for OnlineBackup:           Value counts for OnlineBackup:          \n",
      "False                     1320          False                     0\n",
      "True                      1029          True                      0\n",
      "                          0              No                        911\n",
      "                          0              Yes                       703\n",
      "                          0              No internet service       429\n",
      "\n",
      "Value counts for DeviceProtection:       Value counts for DeviceProtection:      \n",
      "False                     1296          False                     0\n",
      "True                      1053          True                      0\n",
      "                          0              No                        923\n",
      "                          0              Yes                       691\n",
      "                          0              No internet service       429\n",
      "\n",
      "Value counts for TechSupport:            Value counts for TechSupport:           \n",
      "False                     1476          False                     0\n",
      "True                      873           True                      0\n",
      "                          0              No                        996\n",
      "                          0              Yes                       618\n",
      "                          0              No internet service       429\n",
      "\n",
      "Value counts for StreamingTV:            Value counts for StreamingTV:           \n",
      "False                     1190          False                     0\n",
      "True                      1159          True                      0\n",
      "                          0              No                        828\n",
      "                          0              Yes                       786\n",
      "                          0              No internet service       429\n",
      "\n",
      "Value counts for StreamingMovies:        Value counts for StreamingMovies:       \n",
      "True                      1199          True                      0\n",
      "False                     1150          False                     0\n",
      "                          0              No                        831\n",
      "                          0              Yes                       783\n",
      "                          0              No internet service       429\n",
      "\n",
      "Value counts for PaperlessBilling:       Value counts for PaperlessBilling:      \n",
      "True                      1776          True                      0\n",
      "False                     1224          False                     0\n",
      "                          0              Yes                       1220\n",
      "                          0              No                        823\n",
      "\n",
      "Value counts for Churn:                  Value counts for Churn:                 \n",
      "False                     2219          False                     0\n",
      "True                      780           True                      0\n",
      "                          0              No                        1487\n",
      "                          0              Yes                       556\n",
      "\n"
     ]
    }
   ],
   "source": [
    "# categorical columns to be checked\n",
    "colms = ['gender', 'SeniorCitizen', 'Partner', 'Dependents', 'PhoneService', 'MultipleLines',\n",
    "         'OnlineSecurity', 'OnlineBackup', 'DeviceProtection', 'TechSupport',\n",
    "         'StreamingTV', 'StreamingMovies', 'PaperlessBilling', 'Churn']\n",
    "\n",
    "# Print the value counts side by side\n",
    "for cols in colms:\n",
    "    counts_data = data[cols].value_counts()\n",
    "    counts_data2 = data1[cols].value_counts()\n",
    "\n",
    "    # Print column name and its value counts side by side\n",
    "    print(f\"Value counts for {cols}:\".ljust(40), f\"Value counts for {cols}:\".ljust(40))\n",
    "    for index, count in counts_data.items():\n",
    "        index_str = str(index)  # Convert index to string\n",
    "        print(f\"{index_str.ljust(25)} {count}\".ljust(40), end='')\n",
    "        if index in counts_data2:\n",
    "            print(f\"{index_str.ljust(25)} {counts_data2[index]}\")\n",
    "        else:\n",
    "            print(f\"{index_str.ljust(25)} 0\")\n",
    "    for index, count in counts_data2.items():\n",
    "        if index not in counts_data:\n",
    "            index_str = str(index)  # Convert index to string\n",
    "            print(f\"{' '.ljust(25)} 0\".ljust(40), f\"{index_str.ljust(25)} {count}\")\n",
    "\n",
    "    print()  # Empty line between different columns"
   ]
  },
  {
   "cell_type": "markdown",
   "metadata": {},
   "source": [
    "Though the columns from the two datasets have similar names, the print out above shows a camaprison between similar columns in the two data set.\n",
    "From here we can see that some of the columns that should have equal number of unique values have different number of unique values when compared with each other, for example tech support has 3 distinct values in the data1 dataframe but has just 2 in the data dataframe.There are more columns with similar trends in the dataframe."
   ]
  },
  {
   "cell_type": "code",
   "execution_count": 15,
   "metadata": {
    "tags": []
   },
   "outputs": [
    {
     "name": "stdout",
     "output_type": "stream",
     "text": [
      "MultipleLines: 8.97\n",
      "OnlineSecurity: 21.7\n",
      "OnlineBackup: 21.7\n",
      "DeviceProtection: 21.7\n",
      "TechSupport: 21.7\n",
      "StreamingTV: 21.7\n",
      "StreamingMovies: 21.7\n",
      "Churn: 0.03\n"
     ]
    }
   ],
   "source": [
    "# check for percentage of null values columns with different unique values have\n",
    "for values in data.select_dtypes(include=['object', 'bool']).columns:\n",
    "    psg = (data[values].isnull().sum() / data.shape[0] * 100).round(2)\n",
    "    if psg > 0:\n",
    "        print(f\"{values}: {psg}\")"
   ]
  },
  {
   "cell_type": "code",
   "execution_count": 16,
   "metadata": {
    "tags": []
   },
   "outputs": [
    {
     "name": "stdout",
     "output_type": "stream",
     "text": [
      "customerID: 0.0\n",
      "gender: 0.0\n",
      "SeniorCitizen: 0.0\n",
      "Partner: 0.0\n",
      "Dependents: 0.0\n",
      "PhoneService: 0.0\n",
      "InternetService: 0.0\n",
      "Contract: 0.0\n",
      "PaperlessBilling: 0.0\n",
      "PaymentMethod: 0.0\n"
     ]
    }
   ],
   "source": [
    "# columns without null values\n",
    "for values in data.select_dtypes(include=['object', 'bool']).columns:\n",
    "    psg = (data[values].isnull().sum() / data.shape[0] * 100).round(2)\n",
    "    if psg == 0:\n",
    "        print(f\"{values}: {psg}\")"
   ]
  },
  {
   "cell_type": "code",
   "execution_count": 17,
   "metadata": {
    "tags": []
   },
   "outputs": [
    {
     "name": "stdout",
     "output_type": "stream",
     "text": [
      "MultipleLines: 7.333\n"
     ]
    }
   ],
   "source": [
    "# percentage of No phone service in the columns in the data1 dataframe\n",
    "for values in data.select_dtypes(include=['object', 'bool']).columns:\n",
    "    b = data1[data1[values]==\"No phone service\"].count()[values]\n",
    "    c = (b/data.shape[0]*100).round(3)\n",
    "    if c > 0:\n",
    "        print(f\"{values}: {c}\")"
   ]
  },
  {
   "cell_type": "code",
   "execution_count": 18,
   "metadata": {
    "tags": []
   },
   "outputs": [
    {
     "name": "stdout",
     "output_type": "stream",
     "text": [
      "OnlineSecurity: 14.3\n",
      "OnlineBackup: 14.3\n",
      "DeviceProtection: 14.3\n",
      "TechSupport: 14.3\n",
      "StreamingTV: 14.3\n",
      "StreamingMovies: 14.3\n"
     ]
    }
   ],
   "source": [
    "# percentage of No internet service in the columns in the data1 dataframe\n",
    "for values in data.select_dtypes(include=['object', 'bool']).columns:\n",
    "    b = data1[data1[values]==\"No internet service\"].count()[values]\n",
    "    c = (b/data.shape[0]*100).round(3)\n",
    "    if c > 0:\n",
    "        print(f\"{values}: {c}\")"
   ]
  },
  {
   "cell_type": "code",
   "execution_count": 19,
   "metadata": {
    "tags": []
   },
   "outputs": [
    {
     "name": "stdout",
     "output_type": "stream",
     "text": [
      "customerID: 2043\n",
      "MultipleLines: 3\n",
      "InternetService: 3\n",
      "OnlineSecurity: 3\n",
      "OnlineBackup: 3\n",
      "DeviceProtection: 3\n",
      "TechSupport: 3\n",
      "StreamingTV: 3\n",
      "StreamingMovies: 3\n",
      "Contract: 3\n",
      "PaymentMethod: 4\n",
      "TotalCharges: 1991\n"
     ]
    }
   ],
   "source": [
    "# unique values in categporical and bool columns in data1 dataframe\n",
    "for values in data1.select_dtypes(include=['object', 'bool']).columns:\n",
    "    if data1[values].nunique() > 2:\n",
    "        nq = data1[values].nunique()\n",
    "        print(f\"{values}: {nq}\")"
   ]
  },
  {
   "cell_type": "code",
   "execution_count": 20,
   "metadata": {
    "tags": []
   },
   "outputs": [
    {
     "name": "stdout",
     "output_type": "stream",
     "text": [
      "customerID: 3000\n",
      "InternetService: 3\n",
      "Contract: 3\n",
      "PaymentMethod: 4\n"
     ]
    }
   ],
   "source": [
    "# columns with unique values greater than 2\n",
    "for values in data.select_dtypes(include=['object', 'bool']).columns:\n",
    "    if data[values].nunique() > 2:\n",
    "        nq = data[values].nunique()\n",
    "        print(f\"{values}: {nq}\")"
   ]
  },
  {
   "cell_type": "code",
   "execution_count": 21,
   "metadata": {
    "tags": []
   },
   "outputs": [
    {
     "data": {
      "text/plain": [
       "customerID          3000\n",
       "gender                 2\n",
       "SeniorCitizen          2\n",
       "Partner                2\n",
       "Dependents             2\n",
       "tenure                73\n",
       "PhoneService           2\n",
       "MultipleLines          2\n",
       "InternetService        3\n",
       "OnlineSecurity         2\n",
       "OnlineBackup           2\n",
       "DeviceProtection       2\n",
       "TechSupport            2\n",
       "StreamingTV            2\n",
       "StreamingMovies        2\n",
       "Contract               3\n",
       "PaperlessBilling       2\n",
       "PaymentMethod          4\n",
       "MonthlyCharges      1198\n",
       "TotalCharges        2893\n",
       "Churn                  2\n",
       "dtype: int64"
      ]
     },
     "execution_count": 21,
     "metadata": {},
     "output_type": "execute_result"
    }
   ],
   "source": [
    "data.nunique()"
   ]
  },
  {
   "cell_type": "markdown",
   "metadata": {},
   "source": [
    "## EDA On Telco Churn Test (data2)"
   ]
  },
  {
   "cell_type": "code",
   "execution_count": 22,
   "metadata": {
    "tags": []
   },
   "outputs": [
    {
     "name": "stdout",
     "output_type": "stream",
     "text": [
      "<class 'pandas.core.frame.DataFrame'>\n",
      "RangeIndex: 2000 entries, 0 to 1999\n",
      "Data columns (total 20 columns):\n",
      " #   Column            Non-Null Count  Dtype  \n",
      "---  ------            --------------  -----  \n",
      " 0   customerID        2000 non-null   object \n",
      " 1   gender            2000 non-null   object \n",
      " 2   SeniorCitizen     2000 non-null   int64  \n",
      " 3   Partner           2000 non-null   object \n",
      " 4   Dependents        2000 non-null   object \n",
      " 5   tenure            2000 non-null   int64  \n",
      " 6   PhoneService      2000 non-null   object \n",
      " 7   MultipleLines     2000 non-null   object \n",
      " 8   InternetService   2000 non-null   object \n",
      " 9   OnlineSecurity    2000 non-null   object \n",
      " 10  OnlineBackup      2000 non-null   object \n",
      " 11  DeviceProtection  2000 non-null   object \n",
      " 12  TechSupport       2000 non-null   object \n",
      " 13  StreamingTV       2000 non-null   object \n",
      " 14  StreamingMovies   2000 non-null   object \n",
      " 15  Contract          2000 non-null   object \n",
      " 16  PaperlessBilling  2000 non-null   object \n",
      " 17  PaymentMethod     2000 non-null   object \n",
      " 18  MonthlyCharges    2000 non-null   float64\n",
      " 19  TotalCharges      2000 non-null   object \n",
      "dtypes: float64(1), int64(2), object(17)\n",
      "memory usage: 312.6+ KB\n"
     ]
    }
   ],
   "source": [
    "data2.info()"
   ]
  },
  {
   "cell_type": "code",
   "execution_count": 23,
   "metadata": {
    "tags": []
   },
   "outputs": [
    {
     "data": {
      "text/plain": [
       "customerID          2000\n",
       "gender                 2\n",
       "SeniorCitizen          2\n",
       "Partner                2\n",
       "Dependents             2\n",
       "tenure                73\n",
       "PhoneService           2\n",
       "MultipleLines          3\n",
       "InternetService        3\n",
       "OnlineSecurity         3\n",
       "OnlineBackup           3\n",
       "DeviceProtection       3\n",
       "TechSupport            3\n",
       "StreamingTV            3\n",
       "StreamingMovies        3\n",
       "Contract               3\n",
       "PaperlessBilling       2\n",
       "PaymentMethod          4\n",
       "MonthlyCharges       986\n",
       "TotalCharges        1930\n",
       "dtype: int64"
      ]
     },
     "execution_count": 23,
     "metadata": {},
     "output_type": "execute_result"
    }
   ],
   "source": [
    "data2.nunique()"
   ]
  },
  {
   "cell_type": "code",
   "execution_count": 24,
   "metadata": {
    "tags": []
   },
   "outputs": [
    {
     "data": {
      "text/plain": [
       "customerID           object\n",
       "gender               object\n",
       "SeniorCitizen         int64\n",
       "Partner              object\n",
       "Dependents           object\n",
       "tenure                int64\n",
       "PhoneService         object\n",
       "MultipleLines        object\n",
       "InternetService      object\n",
       "OnlineSecurity       object\n",
       "OnlineBackup         object\n",
       "DeviceProtection     object\n",
       "TechSupport          object\n",
       "StreamingTV          object\n",
       "StreamingMovies      object\n",
       "Contract             object\n",
       "PaperlessBilling     object\n",
       "PaymentMethod        object\n",
       "MonthlyCharges      float64\n",
       "TotalCharges         object\n",
       "dtype: object"
      ]
     },
     "execution_count": 24,
     "metadata": {},
     "output_type": "execute_result"
    }
   ],
   "source": [
    "data2.dtypes"
   ]
  },
  {
   "cell_type": "code",
   "execution_count": 25,
   "metadata": {
    "tags": []
   },
   "outputs": [
    {
     "name": "stdout",
     "output_type": "stream",
     "text": [
      "gender: \n",
      "Female    1004\n",
      "Male       996\n",
      "Name: gender, dtype: int64\n",
      "\n",
      "Partner: \n",
      "No     1056\n",
      "Yes     944\n",
      "Name: Partner, dtype: int64\n",
      "\n",
      "Dependents: \n",
      "No     1451\n",
      "Yes     549\n",
      "Name: Dependents, dtype: int64\n",
      "\n",
      "PhoneService: \n",
      "Yes    1807\n",
      "No      193\n",
      "Name: PhoneService, dtype: int64\n",
      "\n",
      "MultipleLines: \n",
      "No                  966\n",
      "Yes                 841\n",
      "No phone service    193\n",
      "Name: MultipleLines, dtype: int64\n",
      "\n",
      "InternetService: \n",
      "Fiber optic    848\n",
      "DSL            706\n",
      "No             446\n",
      "Name: InternetService, dtype: int64\n",
      "\n",
      "OnlineSecurity: \n",
      "No                     991\n",
      "Yes                    563\n",
      "No internet service    446\n",
      "Name: OnlineSecurity, dtype: int64\n",
      "\n",
      "OnlineBackup: \n",
      "No                     857\n",
      "Yes                    697\n",
      "No internet service    446\n",
      "Name: OnlineBackup, dtype: int64\n",
      "\n",
      "DeviceProtection: \n",
      "No                     876\n",
      "Yes                    678\n",
      "No internet service    446\n",
      "Name: DeviceProtection, dtype: int64\n",
      "\n",
      "TechSupport: \n",
      "No                     1001\n",
      "Yes                     553\n",
      "No internet service     446\n",
      "Name: TechSupport, dtype: int64\n",
      "\n",
      "StreamingTV: \n",
      "No                     792\n",
      "Yes                    762\n",
      "No internet service    446\n",
      "Name: StreamingTV, dtype: int64\n",
      "\n",
      "StreamingMovies: \n",
      "No                     804\n",
      "Yes                    750\n",
      "No internet service    446\n",
      "Name: StreamingMovies, dtype: int64\n",
      "\n",
      "Contract: \n",
      "Month-to-month    1131\n",
      "Two year           451\n",
      "One year           418\n",
      "Name: Contract, dtype: int64\n",
      "\n",
      "PaperlessBilling: \n",
      "Yes    1175\n",
      "No      825\n",
      "Name: PaperlessBilling, dtype: int64\n",
      "\n",
      "PaymentMethod: \n",
      "Electronic check             665\n",
      "Mailed check                 484\n",
      "Credit card (automatic)      432\n",
      "Bank transfer (automatic)    419\n",
      "Name: PaymentMethod, dtype: int64\n",
      "\n"
     ]
    }
   ],
   "source": [
    "# value count of unique values in each column of the data2 dataframe\n",
    "colcheck = ['gender', 'Partner', 'Dependents', 'PhoneService',\n",
    "       'MultipleLines', 'InternetService', 'OnlineSecurity', 'OnlineBackup',\n",
    "       'DeviceProtection', 'TechSupport', 'StreamingTV', 'StreamingMovies',\n",
    "       'Contract', 'PaperlessBilling', 'PaymentMethod']\n",
    "for values in colcheck:\n",
    "    count = data2[values].value_counts()\n",
    "    print(f\"{values}: \\n{count}\\n\")"
   ]
  },
  {
   "cell_type": "code",
   "execution_count": null,
   "metadata": {
    "tags": []
   },
   "outputs": [],
   "source": []
  },
  {
   "cell_type": "markdown",
   "metadata": {},
   "source": [
    "  "
   ]
  },
  {
   "cell_type": "markdown",
   "metadata": {},
   "source": [
    "#### Data Inputation"
   ]
  },
  {
   "cell_type": "code",
   "execution_count": 26,
   "metadata": {
    "jupyter": {
     "source_hidden": true
    },
    "tags": []
   },
   "outputs": [],
   "source": [
    "# filling null values in the multipleline column of the data dataframe with No phone service\n",
    "data[\"MultipleLines\"] = data[\"MultipleLines\"].fillna(\"No phone service\")\n",
    "\n",
    "# replaceing values in the \"SeniorCitizen\" column of the first dataset (data) \n",
    "data[\"SeniorCitizen\"].replace(False, \"No\", inplace=True)\n",
    "data[\"SeniorCitizen\"].replace(True, \"Yes\",inplace=True)\n",
    "\n",
    "data1[\"SeniorCitizen\"].replace(0, \"No\", inplace=True)\n",
    "data1[\"SeniorCitizen\"].replace(1, \"Yes\",inplace=True)\n",
    "\n",
    "data2[\"SeniorCitizen\"].replace(0, \"No\", inplace=True)\n",
    "data2[\"SeniorCitizen\"].replace(1, \"Yes\",inplace=True)\n",
    "\n",
    "# replaceing values in the \"MultipleLines\" column of the first dataset (data) \n",
    "data[\"MultipleLines\"] = data[\"MultipleLines\"].replace(True, \"Yes\")\n",
    "data[\"MultipleLines\"] = data[\"MultipleLines\"].replace(False, \"No\")\n",
    "\n",
    "# replaceing values in the tblo columns of the first dataset (data)\n",
    "tblo = [\"OnlineSecurity\", \"OnlineBackup\", \"DeviceProtection\", \"TechSupport\", \"StreamingTV\", \"StreamingMovies\"]\n",
    "for values in tblo:\n",
    "    data[values] = data[values].fillna(\"No internet service\")\n",
    "    data[values] = data[values].replace(True, \"Yes\")\n",
    "    data[values] = data[values].replace(False, \"No\")\n",
    "\n",
    "# The code provided is replacing the missing values in the \"Churn\" column of the DataFrame \"data\" with the string \"No\" using the .fillna() method.\n",
    "data[\"Churn\"] = data.Churn.fillna(\"No\")\n",
    "data[\"Churn\"] = data[\"Churn\"].replace(True, \"Yes\")\n",
    "data[\"Churn\"] = data[\"Churn\"].replace(False, \"No\")\n",
    "\n",
    "data[\"PhoneService\"] = data[\"PhoneService\"].replace(True, \"Yes\")\n",
    "data[\"PhoneService\"] = data[\"PhoneService\"].replace(False, \"No\")\n",
    "#data[\"PhoneService\"] = data[\"PhoneService\"].fillna(\"No\")\n",
    "\n",
    "data[\"Partner\"] = data[\"Partner\"].replace(True, \"Yes\")\n",
    "data[\"Partner\"] = data[\"Partner\"].replace(False, \"No\")\n",
    "\n",
    "\n",
    "data[\"Dependents\"] = data[\"Dependents\"].replace(True, \"Yes\")\n",
    "data[\"Dependents\"] = data[\"Dependents\"].replace(False, \"No\")\n",
    "\n",
    "\n",
    "# median_value = data['TotalCharges'].median()\n",
    "# data[\"TotalCharges\"] = data[\"TotalCharges\"].fillna(median_value)\n",
    "\n",
    "data[\"PaperlessBilling\"] = data[\"PaperlessBilling\"].replace(True, \"Yes\")\n",
    "data[\"PaperlessBilling\"] = data[\"PaperlessBilling\"].replace(False, \"No\")\n"
   ]
  },
  {
   "cell_type": "markdown",
   "metadata": {},
   "source": [
    "After carefully examining the datasets \"data,\" \"data1,\" and \"data2,\" it was observed that they share the same column names, but there are differences in the values they contain. However, \"data1\" and \"data2\" are consistent with each other, and \"data\" is missing some unique values present in \"data1\" and \"data2.\"\n",
    "\n",
    "To maintain consistency and fill in the missing values in \"data,\" the following adjustments were made:\n",
    "\n",
    "1. Where \"data1\" and \"data2\" have \"True\" and \"False\" values, they were changed to \"Yes\" and \"No\" in \"data\" accordingly.\n",
    "\n",
    "2. In cases where \"data1\" and \"data2\" have \"Yes\" and \"No\" values, they were changed to \"1\" and \"0\" in \"data\" respectively.\n",
    "\n",
    "By making these adjustments, the missing values in \"data\" were filled with the unique values common to \"data1\" and \"data2.\" This ensures that all three datasets are consistent with each other, and the missing data in \"data\" is now appropriately handled."
   ]
  },
  {
   "cell_type": "markdown",
   "metadata": {},
   "source": [
    " "
   ]
  },
  {
   "cell_type": "code",
   "execution_count": 27,
   "metadata": {
    "tags": []
   },
   "outputs": [
    {
     "data": {
      "text/html": [
       "<div>\n",
       "<style scoped>\n",
       "    .dataframe tbody tr th:only-of-type {\n",
       "        vertical-align: middle;\n",
       "    }\n",
       "\n",
       "    .dataframe tbody tr th {\n",
       "        vertical-align: top;\n",
       "    }\n",
       "\n",
       "    .dataframe thead th {\n",
       "        text-align: right;\n",
       "    }\n",
       "</style>\n",
       "<table border=\"1\" class=\"dataframe\">\n",
       "  <thead>\n",
       "    <tr style=\"text-align: right;\">\n",
       "      <th></th>\n",
       "      <th>Contract</th>\n",
       "      <th>MonthlyCharges</th>\n",
       "      <th>TotalCharges</th>\n",
       "    </tr>\n",
       "  </thead>\n",
       "  <tbody>\n",
       "    <tr>\n",
       "      <th>488</th>\n",
       "      <td>Two year</td>\n",
       "      <td>52.549999</td>\n",
       "      <td>NaN</td>\n",
       "    </tr>\n",
       "    <tr>\n",
       "      <th>753</th>\n",
       "      <td>Two year</td>\n",
       "      <td>20.250000</td>\n",
       "      <td>NaN</td>\n",
       "    </tr>\n",
       "    <tr>\n",
       "      <th>936</th>\n",
       "      <td>Two year</td>\n",
       "      <td>80.849998</td>\n",
       "      <td>NaN</td>\n",
       "    </tr>\n",
       "    <tr>\n",
       "      <th>1082</th>\n",
       "      <td>Two year</td>\n",
       "      <td>25.750000</td>\n",
       "      <td>NaN</td>\n",
       "    </tr>\n",
       "    <tr>\n",
       "      <th>1340</th>\n",
       "      <td>Two year</td>\n",
       "      <td>56.049999</td>\n",
       "      <td>NaN</td>\n",
       "    </tr>\n",
       "  </tbody>\n",
       "</table>\n",
       "</div>"
      ],
      "text/plain": [
       "      Contract  MonthlyCharges  TotalCharges\n",
       "488   Two year       52.549999           NaN\n",
       "753   Two year       20.250000           NaN\n",
       "936   Two year       80.849998           NaN\n",
       "1082  Two year       25.750000           NaN\n",
       "1340  Two year       56.049999           NaN"
      ]
     },
     "execution_count": 27,
     "metadata": {},
     "output_type": "execute_result"
    }
   ],
   "source": [
    "# check for null in the TotalCharges column\n",
    "data[data[\"TotalCharges\"].isnull()][[\"Contract\", \"MonthlyCharges\", \"TotalCharges\"]]"
   ]
  },
  {
   "cell_type": "code",
   "execution_count": 28,
   "metadata": {
    "tags": []
   },
   "outputs": [],
   "source": [
    "# Replacing the null in the \"TotalCharges\" Column they had 2 years contract. Since we have the monthly charges we can multiply by 24\n",
    "ind = [488, 753, 936, 1082,1340]\n",
    "for values in ind:\n",
    "    data.at[values,\"TotalCharges\"] = data.at[values,\"MonthlyCharges\"]*24"
   ]
  },
  {
   "cell_type": "code",
   "execution_count": 29,
   "metadata": {
    "tags": []
   },
   "outputs": [
    {
     "data": {
      "text/plain": [
       "customerID          3000\n",
       "gender                 2\n",
       "SeniorCitizen          2\n",
       "Partner                2\n",
       "Dependents             2\n",
       "tenure                73\n",
       "PhoneService           2\n",
       "MultipleLines          3\n",
       "InternetService        3\n",
       "OnlineSecurity         3\n",
       "OnlineBackup           3\n",
       "DeviceProtection       3\n",
       "TechSupport            3\n",
       "StreamingTV            3\n",
       "StreamingMovies        3\n",
       "Contract               3\n",
       "PaperlessBilling       2\n",
       "PaymentMethod          4\n",
       "MonthlyCharges      1198\n",
       "TotalCharges        2898\n",
       "Churn                  2\n",
       "dtype: int64"
      ]
     },
     "execution_count": 29,
     "metadata": {},
     "output_type": "execute_result"
    }
   ],
   "source": [
    "data.nunique()"
   ]
  },
  {
   "cell_type": "code",
   "execution_count": 30,
   "metadata": {},
   "outputs": [],
   "source": [
    "df = pd.concat([data,data1], ignore_index=True)"
   ]
  },
  {
   "cell_type": "code",
   "execution_count": 31,
   "metadata": {
    "tags": []
   },
   "outputs": [
    {
     "data": {
      "text/html": [
       "<div>\n",
       "<style scoped>\n",
       "    .dataframe tbody tr th:only-of-type {\n",
       "        vertical-align: middle;\n",
       "    }\n",
       "\n",
       "    .dataframe tbody tr th {\n",
       "        vertical-align: top;\n",
       "    }\n",
       "\n",
       "    .dataframe thead th {\n",
       "        text-align: right;\n",
       "    }\n",
       "</style>\n",
       "<table border=\"1\" class=\"dataframe\">\n",
       "  <thead>\n",
       "    <tr style=\"text-align: right;\">\n",
       "      <th></th>\n",
       "      <th>customerID</th>\n",
       "      <th>gender</th>\n",
       "      <th>SeniorCitizen</th>\n",
       "      <th>Partner</th>\n",
       "      <th>Dependents</th>\n",
       "      <th>tenure</th>\n",
       "      <th>PhoneService</th>\n",
       "      <th>MultipleLines</th>\n",
       "      <th>InternetService</th>\n",
       "      <th>OnlineSecurity</th>\n",
       "      <th>OnlineBackup</th>\n",
       "      <th>DeviceProtection</th>\n",
       "      <th>TechSupport</th>\n",
       "      <th>StreamingTV</th>\n",
       "      <th>StreamingMovies</th>\n",
       "      <th>Contract</th>\n",
       "      <th>PaperlessBilling</th>\n",
       "      <th>PaymentMethod</th>\n",
       "      <th>MonthlyCharges</th>\n",
       "      <th>TotalCharges</th>\n",
       "      <th>Churn</th>\n",
       "    </tr>\n",
       "  </thead>\n",
       "  <tbody>\n",
       "    <tr>\n",
       "      <th>0</th>\n",
       "      <td>7590-VHVEG</td>\n",
       "      <td>Female</td>\n",
       "      <td>No</td>\n",
       "      <td>Yes</td>\n",
       "      <td>No</td>\n",
       "      <td>1</td>\n",
       "      <td>No</td>\n",
       "      <td>No phone service</td>\n",
       "      <td>DSL</td>\n",
       "      <td>No</td>\n",
       "      <td>Yes</td>\n",
       "      <td>No</td>\n",
       "      <td>No</td>\n",
       "      <td>No</td>\n",
       "      <td>No</td>\n",
       "      <td>Month-to-month</td>\n",
       "      <td>Yes</td>\n",
       "      <td>Electronic check</td>\n",
       "      <td>29.850000</td>\n",
       "      <td>29.85</td>\n",
       "      <td>No</td>\n",
       "    </tr>\n",
       "    <tr>\n",
       "      <th>1</th>\n",
       "      <td>5575-GNVDE</td>\n",
       "      <td>Male</td>\n",
       "      <td>No</td>\n",
       "      <td>No</td>\n",
       "      <td>No</td>\n",
       "      <td>34</td>\n",
       "      <td>Yes</td>\n",
       "      <td>No</td>\n",
       "      <td>DSL</td>\n",
       "      <td>Yes</td>\n",
       "      <td>No</td>\n",
       "      <td>Yes</td>\n",
       "      <td>No</td>\n",
       "      <td>No</td>\n",
       "      <td>No</td>\n",
       "      <td>One year</td>\n",
       "      <td>No</td>\n",
       "      <td>Mailed check</td>\n",
       "      <td>56.950001</td>\n",
       "      <td>1889.5</td>\n",
       "      <td>No</td>\n",
       "    </tr>\n",
       "    <tr>\n",
       "      <th>2</th>\n",
       "      <td>3668-QPYBK</td>\n",
       "      <td>Male</td>\n",
       "      <td>No</td>\n",
       "      <td>No</td>\n",
       "      <td>No</td>\n",
       "      <td>2</td>\n",
       "      <td>Yes</td>\n",
       "      <td>No</td>\n",
       "      <td>DSL</td>\n",
       "      <td>Yes</td>\n",
       "      <td>Yes</td>\n",
       "      <td>No</td>\n",
       "      <td>No</td>\n",
       "      <td>No</td>\n",
       "      <td>No</td>\n",
       "      <td>Month-to-month</td>\n",
       "      <td>Yes</td>\n",
       "      <td>Mailed check</td>\n",
       "      <td>53.849998</td>\n",
       "      <td>108.150002</td>\n",
       "      <td>Yes</td>\n",
       "    </tr>\n",
       "    <tr>\n",
       "      <th>3</th>\n",
       "      <td>7795-CFOCW</td>\n",
       "      <td>Male</td>\n",
       "      <td>No</td>\n",
       "      <td>No</td>\n",
       "      <td>No</td>\n",
       "      <td>45</td>\n",
       "      <td>No</td>\n",
       "      <td>No phone service</td>\n",
       "      <td>DSL</td>\n",
       "      <td>Yes</td>\n",
       "      <td>No</td>\n",
       "      <td>Yes</td>\n",
       "      <td>Yes</td>\n",
       "      <td>No</td>\n",
       "      <td>No</td>\n",
       "      <td>One year</td>\n",
       "      <td>No</td>\n",
       "      <td>Bank transfer (automatic)</td>\n",
       "      <td>42.299999</td>\n",
       "      <td>1840.75</td>\n",
       "      <td>No</td>\n",
       "    </tr>\n",
       "    <tr>\n",
       "      <th>4</th>\n",
       "      <td>9237-HQITU</td>\n",
       "      <td>Female</td>\n",
       "      <td>No</td>\n",
       "      <td>No</td>\n",
       "      <td>No</td>\n",
       "      <td>2</td>\n",
       "      <td>Yes</td>\n",
       "      <td>No</td>\n",
       "      <td>Fiber optic</td>\n",
       "      <td>No</td>\n",
       "      <td>No</td>\n",
       "      <td>No</td>\n",
       "      <td>No</td>\n",
       "      <td>No</td>\n",
       "      <td>No</td>\n",
       "      <td>Month-to-month</td>\n",
       "      <td>Yes</td>\n",
       "      <td>Electronic check</td>\n",
       "      <td>70.699997</td>\n",
       "      <td>151.649994</td>\n",
       "      <td>Yes</td>\n",
       "    </tr>\n",
       "  </tbody>\n",
       "</table>\n",
       "</div>"
      ],
      "text/plain": [
       "   customerID  gender SeniorCitizen Partner Dependents  tenure PhoneService  \\\n",
       "0  7590-VHVEG  Female            No     Yes         No       1           No   \n",
       "1  5575-GNVDE    Male            No      No         No      34          Yes   \n",
       "2  3668-QPYBK    Male            No      No         No       2          Yes   \n",
       "3  7795-CFOCW    Male            No      No         No      45           No   \n",
       "4  9237-HQITU  Female            No      No         No       2          Yes   \n",
       "\n",
       "      MultipleLines InternetService OnlineSecurity OnlineBackup  \\\n",
       "0  No phone service             DSL             No          Yes   \n",
       "1                No             DSL            Yes           No   \n",
       "2                No             DSL            Yes          Yes   \n",
       "3  No phone service             DSL            Yes           No   \n",
       "4                No     Fiber optic             No           No   \n",
       "\n",
       "  DeviceProtection TechSupport StreamingTV StreamingMovies        Contract  \\\n",
       "0               No          No          No              No  Month-to-month   \n",
       "1              Yes          No          No              No        One year   \n",
       "2               No          No          No              No  Month-to-month   \n",
       "3              Yes         Yes          No              No        One year   \n",
       "4               No          No          No              No  Month-to-month   \n",
       "\n",
       "  PaperlessBilling              PaymentMethod  MonthlyCharges TotalCharges  \\\n",
       "0              Yes           Electronic check       29.850000        29.85   \n",
       "1               No               Mailed check       56.950001       1889.5   \n",
       "2              Yes               Mailed check       53.849998   108.150002   \n",
       "3               No  Bank transfer (automatic)       42.299999      1840.75   \n",
       "4              Yes           Electronic check       70.699997   151.649994   \n",
       "\n",
       "  Churn  \n",
       "0    No  \n",
       "1    No  \n",
       "2   Yes  \n",
       "3    No  \n",
       "4   Yes  "
      ]
     },
     "execution_count": 31,
     "metadata": {},
     "output_type": "execute_result"
    }
   ],
   "source": [
    "df.head()"
   ]
  },
  {
   "cell_type": "code",
   "execution_count": 32,
   "metadata": {
    "tags": []
   },
   "outputs": [
    {
     "data": {
      "text/plain": [
       "customerID          False\n",
       "gender              False\n",
       "SeniorCitizen       False\n",
       "Partner             False\n",
       "Dependents          False\n",
       "tenure              False\n",
       "PhoneService        False\n",
       "MultipleLines       False\n",
       "InternetService     False\n",
       "OnlineSecurity      False\n",
       "OnlineBackup        False\n",
       "DeviceProtection    False\n",
       "TechSupport         False\n",
       "StreamingTV         False\n",
       "StreamingMovies     False\n",
       "Contract            False\n",
       "PaperlessBilling    False\n",
       "PaymentMethod       False\n",
       "MonthlyCharges      False\n",
       "TotalCharges        False\n",
       "Churn               False\n",
       "dtype: bool"
      ]
     },
     "execution_count": 32,
     "metadata": {},
     "output_type": "execute_result"
    }
   ],
   "source": [
    "df.isnull().any()"
   ]
  },
  {
   "cell_type": "code",
   "execution_count": 33,
   "metadata": {},
   "outputs": [],
   "source": [
    "# profile = ProfileReport(data2,title=\"Quick Report\", html= {\"sstyle\":{\"full_width\":True}})\n",
    "# profile"
   ]
  },
  {
   "cell_type": "code",
   "execution_count": 34,
   "metadata": {
    "tags": []
   },
   "outputs": [
    {
     "data": {
      "text/plain": [
       "No     4224\n",
       "Yes     819\n",
       "Name: SeniorCitizen, dtype: int64"
      ]
     },
     "execution_count": 34,
     "metadata": {},
     "output_type": "execute_result"
    }
   ],
   "source": [
    "df.SeniorCitizen.value_counts()"
   ]
  },
  {
   "cell_type": "code",
   "execution_count": 35,
   "metadata": {
    "tags": []
   },
   "outputs": [
    {
     "name": "stdout",
     "output_type": "stream",
     "text": [
      "<class 'pandas.core.frame.DataFrame'>\n",
      "RangeIndex: 5043 entries, 0 to 5042\n",
      "Data columns (total 21 columns):\n",
      " #   Column            Non-Null Count  Dtype  \n",
      "---  ------            --------------  -----  \n",
      " 0   customerID        5043 non-null   object \n",
      " 1   gender            5043 non-null   object \n",
      " 2   SeniorCitizen     5043 non-null   object \n",
      " 3   Partner           5043 non-null   object \n",
      " 4   Dependents        5043 non-null   object \n",
      " 5   tenure            5043 non-null   int64  \n",
      " 6   PhoneService      5043 non-null   object \n",
      " 7   MultipleLines     5043 non-null   object \n",
      " 8   InternetService   5043 non-null   object \n",
      " 9   OnlineSecurity    5043 non-null   object \n",
      " 10  OnlineBackup      5043 non-null   object \n",
      " 11  DeviceProtection  5043 non-null   object \n",
      " 12  TechSupport       5043 non-null   object \n",
      " 13  StreamingTV       5043 non-null   object \n",
      " 14  StreamingMovies   5043 non-null   object \n",
      " 15  Contract          5043 non-null   object \n",
      " 16  PaperlessBilling  5043 non-null   object \n",
      " 17  PaymentMethod     5043 non-null   object \n",
      " 18  MonthlyCharges    5043 non-null   float64\n",
      " 19  TotalCharges      5043 non-null   object \n",
      " 20  Churn             5043 non-null   object \n",
      "dtypes: float64(1), int64(1), object(19)\n",
      "memory usage: 827.5+ KB\n"
     ]
    }
   ],
   "source": [
    "df.info()"
   ]
  },
  {
   "cell_type": "code",
   "execution_count": 36,
   "metadata": {
    "tags": []
   },
   "outputs": [
    {
     "data": {
      "text/html": [
       "<div>\n",
       "<style scoped>\n",
       "    .dataframe tbody tr th:only-of-type {\n",
       "        vertical-align: middle;\n",
       "    }\n",
       "\n",
       "    .dataframe tbody tr th {\n",
       "        vertical-align: top;\n",
       "    }\n",
       "\n",
       "    .dataframe thead th {\n",
       "        text-align: right;\n",
       "    }\n",
       "</style>\n",
       "<table border=\"1\" class=\"dataframe\">\n",
       "  <thead>\n",
       "    <tr style=\"text-align: right;\">\n",
       "      <th></th>\n",
       "      <th>tenure</th>\n",
       "      <th>MonthlyCharges</th>\n",
       "    </tr>\n",
       "  </thead>\n",
       "  <tbody>\n",
       "    <tr>\n",
       "      <th>count</th>\n",
       "      <td>5043.000000</td>\n",
       "      <td>5043.000000</td>\n",
       "    </tr>\n",
       "    <tr>\n",
       "      <th>mean</th>\n",
       "      <td>32.576641</td>\n",
       "      <td>65.090214</td>\n",
       "    </tr>\n",
       "    <tr>\n",
       "      <th>std</th>\n",
       "      <td>24.529807</td>\n",
       "      <td>30.068133</td>\n",
       "    </tr>\n",
       "    <tr>\n",
       "      <th>min</th>\n",
       "      <td>0.000000</td>\n",
       "      <td>18.400000</td>\n",
       "    </tr>\n",
       "    <tr>\n",
       "      <th>25%</th>\n",
       "      <td>9.000000</td>\n",
       "      <td>35.775000</td>\n",
       "    </tr>\n",
       "    <tr>\n",
       "      <th>50%</th>\n",
       "      <td>29.000000</td>\n",
       "      <td>70.550003</td>\n",
       "    </tr>\n",
       "    <tr>\n",
       "      <th>75%</th>\n",
       "      <td>56.000000</td>\n",
       "      <td>90.050003</td>\n",
       "    </tr>\n",
       "    <tr>\n",
       "      <th>max</th>\n",
       "      <td>72.000000</td>\n",
       "      <td>118.650002</td>\n",
       "    </tr>\n",
       "  </tbody>\n",
       "</table>\n",
       "</div>"
      ],
      "text/plain": [
       "            tenure  MonthlyCharges\n",
       "count  5043.000000     5043.000000\n",
       "mean     32.576641       65.090214\n",
       "std      24.529807       30.068133\n",
       "min       0.000000       18.400000\n",
       "25%       9.000000       35.775000\n",
       "50%      29.000000       70.550003\n",
       "75%      56.000000       90.050003\n",
       "max      72.000000      118.650002"
      ]
     },
     "execution_count": 36,
     "metadata": {},
     "output_type": "execute_result"
    }
   ],
   "source": [
    "df.describe()"
   ]
  },
  {
   "cell_type": "code",
   "execution_count": 37,
   "metadata": {
    "tags": []
   },
   "outputs": [
    {
     "data": {
      "text/plain": [
       "customerID           object\n",
       "gender               object\n",
       "SeniorCitizen        object\n",
       "Partner              object\n",
       "Dependents           object\n",
       "tenure                int64\n",
       "PhoneService         object\n",
       "MultipleLines        object\n",
       "InternetService      object\n",
       "OnlineSecurity       object\n",
       "OnlineBackup         object\n",
       "DeviceProtection     object\n",
       "TechSupport          object\n",
       "StreamingTV          object\n",
       "StreamingMovies      object\n",
       "Contract             object\n",
       "PaperlessBilling     object\n",
       "PaymentMethod        object\n",
       "MonthlyCharges      float64\n",
       "TotalCharges         object\n",
       "Churn                object\n",
       "dtype: object"
      ]
     },
     "execution_count": 37,
     "metadata": {},
     "output_type": "execute_result"
    }
   ],
   "source": [
    "df.dtypes"
   ]
  },
  {
   "cell_type": "code",
   "execution_count": 38,
   "metadata": {
    "tags": []
   },
   "outputs": [
    {
     "data": {
      "text/html": [
       "<div>\n",
       "<style scoped>\n",
       "    .dataframe tbody tr th:only-of-type {\n",
       "        vertical-align: middle;\n",
       "    }\n",
       "\n",
       "    .dataframe tbody tr th {\n",
       "        vertical-align: top;\n",
       "    }\n",
       "\n",
       "    .dataframe thead th {\n",
       "        text-align: right;\n",
       "    }\n",
       "</style>\n",
       "<table border=\"1\" class=\"dataframe\">\n",
       "  <thead>\n",
       "    <tr style=\"text-align: right;\">\n",
       "      <th></th>\n",
       "      <th>Contract</th>\n",
       "      <th>MonthlyCharges</th>\n",
       "      <th>TotalCharges</th>\n",
       "    </tr>\n",
       "  </thead>\n",
       "  <tbody>\n",
       "  </tbody>\n",
       "</table>\n",
       "</div>"
      ],
      "text/plain": [
       "Empty DataFrame\n",
       "Columns: [Contract, MonthlyCharges, TotalCharges]\n",
       "Index: []"
      ]
     },
     "execution_count": 38,
     "metadata": {},
     "output_type": "execute_result"
    }
   ],
   "source": [
    "# \"\"\"the TotalCharge column had empty strings in it, this code helps to convert string to float easily even \n",
    "# when there are abnormalities, the abnormalities will become na\"\"\"\n",
    "df['TotalCharges'] = pd.to_numeric(df['TotalCharges'], errors='coerce')\n",
    "# median_value = df['TotalCharges'].median()\n",
    "# df[\"TotalCharges\"] = df[\"TotalCharges\"].fillna(median_value).round(3)\n",
    "df[df[\"TotalCharges\"]== ' '][[\"Contract\", \"MonthlyCharges\", \"TotalCharges\"]]"
   ]
  },
  {
   "cell_type": "code",
   "execution_count": 39,
   "metadata": {},
   "outputs": [],
   "source": [
    "df.at[3218,\"TotalCharges\"] = df.at[3218,\"MonthlyCharges\"]*12\n",
    "df.at[4670,\"TotalCharges\"] = df.at[4670,\"MonthlyCharges\"]*24\n",
    "df.at[4754,\"TotalCharges\"] = df.at[4754,\"MonthlyCharges\"]*24"
   ]
  },
  {
   "cell_type": "code",
   "execution_count": 40,
   "metadata": {
    "tags": []
   },
   "outputs": [],
   "source": [
    "# profile = ProfileReport(df,title=\"Quick Report\", html= {\"sstyle\":{\"full_width\":True}})\n",
    "# profile"
   ]
  },
  {
   "cell_type": "code",
   "execution_count": 41,
   "metadata": {
    "tags": []
   },
   "outputs": [
    {
     "data": {
      "text/plain": [
       "(5043, 21)"
      ]
     },
     "execution_count": 41,
     "metadata": {},
     "output_type": "execute_result"
    }
   ],
   "source": [
    "df.shape"
   ]
  },
  {
   "cell_type": "markdown",
   "metadata": {
    "tags": []
   },
   "source": [
    "## Drop Duplicates"
   ]
  },
  {
   "cell_type": "code",
   "execution_count": 42,
   "metadata": {
    "tags": []
   },
   "outputs": [
    {
     "data": {
      "text/plain": [
       "False"
      ]
     },
     "execution_count": 42,
     "metadata": {},
     "output_type": "execute_result"
    }
   ],
   "source": [
    "df.duplicated().any()"
   ]
  },
  {
   "cell_type": "code",
   "execution_count": 43,
   "metadata": {},
   "outputs": [
    {
     "name": "stdout",
     "output_type": "stream",
     "text": [
      "P-value:, 0.49338\n",
      "  There is no significant relationship between customerID and Churn\n",
      "---------------------------------------------------------------------------------------\n",
      "\n",
      "P-value:, 0.87651\n",
      "  There is no significant relationship between gender and Churn\n",
      "---------------------------------------------------------------------------------------\n",
      "\n",
      "P-value:, 0.00000\n",
      "  There is significant relationship between SeniorCitizen and Churn\n",
      "---------------------------------------------------------------------------------------\n",
      "\n",
      "P-value:, 0.00000\n",
      "  There is significant relationship between Partner and Churn\n",
      "---------------------------------------------------------------------------------------\n",
      "\n",
      "P-value:, 0.00000\n",
      "  There is significant relationship between Dependents and Churn\n",
      "---------------------------------------------------------------------------------------\n",
      "\n",
      "P-value:, 0.32928\n",
      "  There is no significant relationship between PhoneService and Churn\n",
      "---------------------------------------------------------------------------------------\n",
      "\n",
      "P-value:, 0.01501\n",
      "  There is significant relationship between MultipleLines and Churn\n",
      "---------------------------------------------------------------------------------------\n",
      "\n",
      "P-value:, 0.00000\n",
      "  There is significant relationship between InternetService and Churn\n",
      "---------------------------------------------------------------------------------------\n",
      "\n",
      "P-value:, 0.00000\n",
      "  There is significant relationship between OnlineSecurity and Churn\n",
      "---------------------------------------------------------------------------------------\n",
      "\n",
      "P-value:, 0.00000\n",
      "  There is significant relationship between OnlineBackup and Churn\n",
      "---------------------------------------------------------------------------------------\n",
      "\n",
      "P-value:, 0.00000\n",
      "  There is significant relationship between DeviceProtection and Churn\n",
      "---------------------------------------------------------------------------------------\n",
      "\n",
      "P-value:, 0.00000\n",
      "  There is significant relationship between TechSupport and Churn\n",
      "---------------------------------------------------------------------------------------\n",
      "\n",
      "P-value:, 0.00000\n",
      "  There is significant relationship between StreamingTV and Churn\n",
      "---------------------------------------------------------------------------------------\n",
      "\n",
      "P-value:, 0.00000\n",
      "  There is significant relationship between StreamingMovies and Churn\n",
      "---------------------------------------------------------------------------------------\n",
      "\n",
      "P-value:, 0.00000\n",
      "  There is significant relationship between Contract and Churn\n",
      "---------------------------------------------------------------------------------------\n",
      "\n",
      "P-value:, 0.00000\n",
      "  There is significant relationship between PaperlessBilling and Churn\n",
      "---------------------------------------------------------------------------------------\n",
      "\n",
      "P-value:, 0.00000\n",
      "  There is significant relationship between PaymentMethod and Churn\n",
      "---------------------------------------------------------------------------------------\n",
      "\n",
      "P-value:, 0.00000\n",
      "  There is significant relationship between Churn and Churn\n",
      "---------------------------------------------------------------------------------------\n",
      "\n"
     ]
    }
   ],
   "source": [
    "def chi_corr(df, y):\n",
    "    for cols in df.select_dtypes([\"object\"]).columns:\n",
    "        contingency_table = pd.crosstab(df[cols], df[y])\n",
    "\n",
    "        # Perform the chi-square test\n",
    "        chi2, p_value, dof, expected = chi2_contingency(contingency_table)\n",
    "\n",
    "        # Print the results\n",
    "        #print(\"Chi-square statistic:\", chi2)\n",
    "        if  p_value > 0.05:\n",
    "            print(f\"P-value:, {p_value:.5f}\\n  There is no significant relationship between {cols} and {y}\")\n",
    "        else:\n",
    "            print(f\"P-value:, {p_value:.5f}\\n  There is significant relationship between {cols} and {y}\")\n",
    "        print(\"---------------------------------------------------------------------------------------\")\n",
    "        print()\n",
    "chi_corr(df,\"Churn\")"
   ]
  },
  {
   "cell_type": "code",
   "execution_count": 44,
   "metadata": {
    "tags": []
   },
   "outputs": [
    {
     "data": {
      "image/png": "[encoded data removed]",
      "text/plain": [
       "<Figure size 1000x600 with 2 Axes>"
      ]
     },
     "metadata": {},
     "output_type": "display_data"
    }
   ],
   "source": [
    "def chi_corr(df, y):\n",
    "    p_values = pd.DataFrame(index=df.select_dtypes([\"object\"]).columns, columns=[y])\n",
    "    \n",
    "    for col in df.select_dtypes([\"object\"]).columns:\n",
    "        contingency_table = pd.crosstab(df[col], df[y])\n",
    "        \n",
    "        # Perform the chi-square test\n",
    "        chi2, p_value, dof, expected = chi2_contingency(contingency_table)\n",
    "        \n",
    "        p_values.loc[col, y] = p_value\n",
    "    \n",
    "    plt.figure(figsize=(10, 6))\n",
    "    sns.heatmap(p_values.astype(float), annot=True, cmap='coolwarm', fmt=\".3f\")\n",
    "    plt.title(f\"Chi-Square P-Values Heatmap for {y}\")\n",
    "    plt.xlabel(y)\n",
    "    plt.ylabel(\"Categorical Features\")\n",
    "    plt.show()\n",
    "\n",
    "# Assuming you have a DataFrame named 'df' and a target column named 'Churn'\n",
    "chi_corr(df, 'Churn')"
   ]
  },
  {
   "cell_type": "code",
   "execution_count": 45,
   "metadata": {
    "tags": []
   },
   "outputs": [
    {
     "data": {
      "image/png": "[encoded data removed]",
      "text/plain": [
       "<Figure size 640x480 with 2 Axes>"
      ]
     },
     "metadata": {},
     "output_type": "display_data"
    }
   ],
   "source": [
    "dfc = df.copy()\n",
    "\n",
    "dfc[\"Churn\"].replace(\"No\", 0, inplace=True)\n",
    "dfc[\"Churn\"].replace(\"Yes\", 1,inplace=True)\n",
    "\n",
    "cor_mat = dfc[['tenure', 'MonthlyCharges', 'TotalCharges', 'Churn']].corr()\n",
    "\n",
    "sns.heatmap(cor_mat, annot = True)\n",
    "\n",
    "plt.title(\"Correlation matrix for New York City Parking Violations\")\n",
    "\n",
    "plt.xlabel(\"Parking Violation features\")\n",
    "\n",
    "plt.ylabel(\"Parking Violation features\")\n",
    "\n",
    "plt.show()"
   ]
  },
  {
   "cell_type": "markdown",
   "metadata": {},
   "source": [
    "## Feature Selection"
   ]
  },
  {
   "cell_type": "code",
   "execution_count": 46,
   "metadata": {
    "tags": []
   },
   "outputs": [],
   "source": [
    "df = df.drop([\"customerID\", \"gender\", \"PhoneService\"], axis=1)"
   ]
  },
  {
   "cell_type": "markdown",
   "metadata": {},
   "source": [
    "## Dataset Splitting"
   ]
  },
  {
   "cell_type": "code",
   "execution_count": 47,
   "metadata": {
    "tags": []
   },
   "outputs": [],
   "source": [
    "# Separate target variable\n",
    "X = df.drop('Churn', axis=1)\n",
    "y = df['Churn']"
   ]
  },
  {
   "cell_type": "code",
   "execution_count": 48,
   "metadata": {
    "tags": []
   },
   "outputs": [],
   "source": [
    "numeric_features = X.select_dtypes(include=[\"int\",\"float\"]).columns\n",
    "categorical_features = X.select_dtypes(include=[\"object\",\"bool\"]).columns"
   ]
  },
  {
   "cell_type": "code",
   "execution_count": 49,
   "metadata": {
    "tags": []
   },
   "outputs": [],
   "source": [
    "X_train, X_test, y_train, y_test = train_test_split(X, y, test_size=0.2, random_state=42)"
   ]
  },
  {
   "cell_type": "code",
   "execution_count": 50,
   "metadata": {},
   "outputs": [],
   "source": [
    "numeric_transformer = Pipeline(steps=[('scaler', StandardScaler())])\n",
    "categorical_transformer = Pipeline(steps=[('encoder', OneHotEncoder())])"
   ]
  },
  {
   "cell_type": "code",
   "execution_count": 51,
   "metadata": {
    "tags": []
   },
   "outputs": [],
   "source": [
    "preprocessor = ColumnTransformer(\n",
    "    transformers=[\n",
    "        ('num', numeric_transformer, numeric_features),\n",
    "        ('cat', categorical_transformer, categorical_features)\n",
    "    ])"
   ]
  },
  {
   "cell_type": "markdown",
   "metadata": {},
   "source": [
    "#### Train and Evaluation using LogisticRegression Model"
   ]
  },
  {
   "cell_type": "code",
   "execution_count": 52,
   "metadata": {
    "tags": []
   },
   "outputs": [
    {
     "name": "stdout",
     "output_type": "stream",
     "text": [
      "              precision    recall  f1-score   support\n",
      "\n",
      "   Not Churn       0.84      0.90      0.87       734\n",
      "       Churn       0.68      0.55      0.61       275\n",
      "\n",
      "    accuracy                           0.81      1009\n",
      "   macro avg       0.76      0.73      0.74      1009\n",
      "weighted avg       0.80      0.81      0.80      1009\n",
      "\n",
      "F2-Score: 0.57\n"
     ]
    }
   ],
   "source": [
    "# Create the pipeline with Logistic Regression\n",
    "logreg_model = LogisticRegression(random_state=42)\n",
    "\n",
    "pipeline = Pipeline(steps=[('preprocessor', preprocessor),\n",
    "                           ('classifier', logreg_model)])\n",
    "\n",
    "# Fit the model\n",
    "pipeline.fit(X_train, y_train)\n",
    "\n",
    "# Make predictions\n",
    "y_pred = pipeline.predict(X_test)\n",
    "\n",
    "# Calculate F2-score using custom beta value\n",
    "custom_beta = 2\n",
    "F2_score = fbeta_score(y_test, y_pred, beta=custom_beta, pos_label='Yes')\n",
    "\n",
    "# Classification report\n",
    "class_names = ['Not Churn', 'Churn']\n",
    "classification_rep = classification_report(y_test, y_pred, target_names=class_names)\n",
    "print(classification_rep)\n",
    "print(f\"F2-Score: {F2_score:.2f}\")\n",
    "\n",
    "F1_score = f1_score(y_test, y_pred, pos_label='No')\n",
    "Recall = recall_score(y_test, y_pred, pos_label='No')\n",
    "Precision = precision_score(y_test, y_pred, pos_label='No')\n",
    "\n",
    "route = {'model': \"LREG\", 'Precision': round(Precision,3), 'Recall': round(Recall,3), 'F1-score': round(F1_score, 3), 'F2_score': round(F2_score, 3)}\n",
    "\n",
    "\n",
    "\n",
    "eval = pd.DataFrame(route, index=[0])"
   ]
  },
  {
   "cell_type": "markdown",
   "metadata": {},
   "source": [
    "#### Train and Evaluation using Decision Tree Classifier "
   ]
  },
  {
   "cell_type": "code",
   "execution_count": 53,
   "metadata": {
    "tags": []
   },
   "outputs": [
    {
     "name": "stdout",
     "output_type": "stream",
     "text": [
      "              precision    recall  f1-score   support\n",
      "\n",
      "   Not Churn       0.82      0.80      0.81       734\n",
      "       Churn       0.51      0.55      0.53       275\n",
      "\n",
      "    accuracy                           0.73      1009\n",
      "   macro avg       0.67      0.67      0.67      1009\n",
      "weighted avg       0.74      0.73      0.74      1009\n",
      "\n",
      "F2-Score: 0.54\n"
     ]
    }
   ],
   "source": [
    "# Create the pipeline with Decision Tree\n",
    "decision_tree_model = DecisionTreeClassifier(random_state=42)\n",
    "\n",
    "pipeline = Pipeline(steps=[('preprocessor', preprocessor),\n",
    "                           ('classifier', decision_tree_model)])\n",
    "\n",
    "# Fit the model\n",
    "pipeline.fit(X_train, y_train)\n",
    "\n",
    "# Make predictions\n",
    "y_pred = pipeline.predict(X_test)\n",
    "\n",
    "# Calculate F2-score using custom beta value\n",
    "custom_beta = 2\n",
    "F2_score = fbeta_score(y_test, y_pred, beta=custom_beta, pos_label='Yes')\n",
    "\n",
    "# Classification report\n",
    "class_names = ['Not Churn', 'Churn']\n",
    "classification_rep = classification_report(y_test, y_pred, target_names=class_names)\n",
    "print(classification_rep)\n",
    "print(f\"F2-Score: {F2_score:.2f}\")\n",
    "\n",
    "F1_score = f1_score(y_test, y_pred, pos_label='No')\n",
    "Recall = recall_score(y_test, y_pred, pos_label='No')\n",
    "Precision = precision_score(y_test, y_pred, pos_label='No')\n",
    "\n",
    "route = {'model': \"DTC\", 'Precision': round(Precision,3), 'Recall': round(Recall,3), 'F1-score': round(F1_score, 3), 'F2_score': round(F2_score, 3)}\n",
    "\n",
    "\n",
    "\n",
    "eval = eval.append(route, ignore_index='True')"
   ]
  },
  {
   "cell_type": "markdown",
   "metadata": {},
   "source": [
    "#### Train and Evaluation using Random Forest Classifier"
   ]
  },
  {
   "cell_type": "code",
   "execution_count": 54,
   "metadata": {
    "tags": []
   },
   "outputs": [
    {
     "name": "stdout",
     "output_type": "stream",
     "text": [
      "              precision    recall  f1-score   support\n",
      "\n",
      "   Not Churn       0.82      0.80      0.81       734\n",
      "       Churn       0.51      0.55      0.53       275\n",
      "\n",
      "    accuracy                           0.73      1009\n",
      "   macro avg       0.67      0.67      0.67      1009\n",
      "weighted avg       0.74      0.73      0.74      1009\n",
      "\n",
      "F2-Score: 0.54\n"
     ]
    }
   ],
   "source": [
    "# Create the pipeline with Random Forest\n",
    "random_forest_model = RandomForestClassifier(random_state=42)\n",
    "pipeline = Pipeline(steps=[('preprocessor', preprocessor),\n",
    "                           ('classifier', random_forest_model)])\n",
    "\n",
    "# Fit the model\n",
    "pipeline.fit(X_train, y_train)\n",
    "\n",
    "# Calculate F2-score using custom beta value\n",
    "custom_beta = 2\n",
    "F2_score = fbeta_score(y_test, y_pred, beta=custom_beta, pos_label='Yes')\n",
    "\n",
    "# Classification report\n",
    "class_names = ['Not Churn', 'Churn']\n",
    "classification_rep = classification_report(y_test, y_pred, target_names=class_names)\n",
    "print(classification_rep)\n",
    "print(f\"F2-Score: {F2_score:.2f}\")\n",
    "\n",
    "F1_score = f1_score(y_test, y_pred, pos_label='No')\n",
    "Recall = recall_score(y_test, y_pred, pos_label='No')\n",
    "Precision = precision_score(y_test, y_pred, pos_label='No')\n",
    "\n",
    "route = {'model': \"RFC\", 'Precision': round(Precision,3), 'Recall': round(Recall,3), 'F1-score': round(F1_score, 3), 'F2_score': round(F2_score, 3)}\n",
    "\n",
    "\n",
    "\n",
    "eval = eval.append(route, ignore_index='True')"
   ]
  },
  {
   "cell_type": "markdown",
   "metadata": {
    "tags": []
   },
   "source": [
    " #### Train and Evaluation using Decision Support Vector Classifier (SVC)"
   ]
  },
  {
   "cell_type": "code",
   "execution_count": 55,
   "metadata": {
    "tags": []
   },
   "outputs": [
    {
     "name": "stdout",
     "output_type": "stream",
     "text": [
      "              precision    recall  f1-score   support\n",
      "\n",
      "          No       0.83      0.92      0.87       734\n",
      "         Yes       0.70      0.51      0.59       275\n",
      "\n",
      "    accuracy                           0.81      1009\n",
      "   macro avg       0.77      0.71      0.73      1009\n",
      "weighted avg       0.80      0.81      0.80      1009\n",
      "\n",
      "F2-Score: 0.54\n"
     ]
    }
   ],
   "source": [
    "# Create the pipeline with Support Vector Classifier (SVC)\n",
    "svc_model = SVC(random_state=42)\n",
    "\n",
    "pipeline = Pipeline(steps=[('preprocessor', preprocessor),\n",
    "                           ('classifier', svc_model)])\n",
    "\n",
    "# Fit the model\n",
    "pipeline.fit(X_train, y_train)\n",
    "\n",
    "# Make predictions\n",
    "y_pred = pipeline.predict(X_test)\n",
    "\n",
    "# Calculate F2-score using custom beta value and pos_label\n",
    "custom_beta = 2\n",
    "F2_score = fbeta_score(y_test, y_pred, beta=custom_beta, pos_label='Yes')\n",
    "\n",
    "# Classification report\n",
    "class_names = ['No', 'Yes']\n",
    "classification_rep = classification_report(y_test, y_pred, target_names=class_names)\n",
    "print(classification_rep)\n",
    "print(f\"F2-Score: {F2_score:.2f}\")\n",
    "\n",
    "F1_score = f1_score(y_test, y_pred, pos_label='No')\n",
    "Recall = recall_score(y_test, y_pred, pos_label='No')\n",
    "Precision = precision_score(y_test, y_pred, pos_label='No')\n",
    "\n",
    "route = {'model': \"SVC\", 'Precision': round(Precision,3), 'Recall': round(Recall,3), 'F1-score': round(F1_score, 3), 'F2_score': round(F2_score, 3)}\n",
    "\n",
    "\n",
    "\n",
    "eval = eval.append(route, ignore_index='True')"
   ]
  },
  {
   "cell_type": "markdown",
   "metadata": {},
   "source": [
    " #### Train and Evaluation using KNeighbors Classifier"
   ]
  },
  {
   "cell_type": "code",
   "execution_count": 56,
   "metadata": {
    "tags": []
   },
   "outputs": [
    {
     "name": "stdout",
     "output_type": "stream",
     "text": [
      "              precision    recall  f1-score   support\n",
      "\n",
      "          No       0.84      0.87      0.85       734\n",
      "         Yes       0.61      0.55      0.58       275\n",
      "\n",
      "    accuracy                           0.78      1009\n",
      "   macro avg       0.72      0.71      0.72      1009\n",
      "weighted avg       0.78      0.78      0.78      1009\n",
      "\n",
      "F2-Score: 0.56\n"
     ]
    }
   ],
   "source": [
    "# Create the pipeline with KNeighborsClassifier\n",
    "knn_model = KNeighborsClassifier()\n",
    "\n",
    "pipeline = Pipeline(steps=[('preprocessor', preprocessor),\n",
    "                           ('classifier', knn_model)])\n",
    "\n",
    "# Fit the model\n",
    "pipeline.fit(X_train, y_train)\n",
    "\n",
    "# Make predictions\n",
    "y_pred = pipeline.predict(X_test)\n",
    "\n",
    "# Calculate F2-score using custom beta value and pos_label\n",
    "custom_beta = 2\n",
    "F2_score = fbeta_score(y_test, y_pred, beta=custom_beta, pos_label='Yes')\n",
    "\n",
    "# Classification report\n",
    "class_names = ['No', 'Yes']\n",
    "classification_rep = classification_report(y_test, y_pred, target_names=class_names)\n",
    "print(classification_rep)\n",
    "print(f\"F2-Score: {F2_score:.2f}\")\n",
    "\n",
    "F1_score = f1_score(y_test, y_pred, pos_label='No')\n",
    "Recall = recall_score(y_test, y_pred, pos_label='No')\n",
    "Precision = precision_score(y_test, y_pred, pos_label='No')\n",
    "\n",
    "route = {'model': \"KNN\", 'Precision': round(Precision,3), 'Recall': round(Recall,3), 'F1-score': round(F1_score, 3), 'F2_score': round(F2_score, 3)}\n",
    "\n",
    "\n",
    "\n",
    "eval = eval.append(route, ignore_index='True')"
   ]
  },
  {
   "cell_type": "code",
   "execution_count": 57,
   "metadata": {
    "jupyter": {
     "source_hidden": true
    },
    "tags": []
   },
   "outputs": [
    {
     "data": {
      "image/png": "[encoded data removed]",
      "text/plain": [
       "<Figure size 600x400 with 1 Axes>"
      ]
     },
     "metadata": {},
     "output_type": "display_data"
    },
    {
     "name": "stdout",
     "output_type": "stream",
     "text": [
      "Unique values in SeniorCitizen:\n",
      "No     4224\n",
      "Yes     819\n",
      "Name: SeniorCitizen, dtype: int64\n",
      "\n"
     ]
    },
    {
     "data": {
      "image/png": "[encoded data removed]",
      "text/plain": [
       "<Figure size 600x400 with 1 Axes>"
      ]
     },
     "metadata": {},
     "output_type": "display_data"
    },
    {
     "name": "stdout",
     "output_type": "stream",
     "text": [
      "Unique values in Partner:\n",
      "No     2585\n",
      "Yes    2458\n",
      "Name: Partner, dtype: int64\n",
      "\n"
     ]
    },
    {
     "data": {
      "image/png": "[encoded data removed]",
      "text/plain": [
       "<Figure size 600x400 with 1 Axes>"
      ]
     },
     "metadata": {},
     "output_type": "display_data"
    },
    {
     "name": "stdout",
     "output_type": "stream",
     "text": [
      "Unique values in Dependents:\n",
      "No     3482\n",
      "Yes    1561\n",
      "Name: Dependents, dtype: int64\n",
      "\n"
     ]
    },
    {
     "data": {
      "image/png": "[encoded data removed]",
      "text/plain": [
       "<Figure size 600x400 with 1 Axes>"
      ]
     },
     "metadata": {},
     "output_type": "display_data"
    },
    {
     "name": "stdout",
     "output_type": "stream",
     "text": [
      "Unique values in MultipleLines:\n",
      "No                  2424\n",
      "Yes                 2130\n",
      "No phone service     489\n",
      "Name: MultipleLines, dtype: int64\n",
      "\n"
     ]
    },
    {
     "data": {
      "image/png": "[encoded data removed]",
      "text/plain": [
       "<Figure size 600x400 with 1 Axes>"
      ]
     },
     "metadata": {},
     "output_type": "display_data"
    },
    {
     "name": "stdout",
     "output_type": "stream",
     "text": [
      "Unique values in InternetService:\n",
      "Fiber optic    2248\n",
      "DSL            1715\n",
      "No             1080\n",
      "Name: InternetService, dtype: int64\n",
      "\n"
     ]
    },
    {
     "data": {
      "image/png": "[encoded data removed]",
      "text/plain": [
       "<Figure size 600x400 with 1 Axes>"
      ]
     },
     "metadata": {},
     "output_type": "display_data"
    },
    {
     "name": "stdout",
     "output_type": "stream",
     "text": [
      "Unique values in OnlineSecurity:\n",
      "No                     2507\n",
      "Yes                    1456\n",
      "No internet service    1080\n",
      "Name: OnlineSecurity, dtype: int64\n",
      "\n"
     ]
    },
    {
     "data": {
      "image/png": "[encoded data removed]",
      "text/plain": [
       "<Figure size 600x400 with 1 Axes>"
      ]
     },
     "metadata": {},
     "output_type": "display_data"
    },
    {
     "name": "stdout",
     "output_type": "stream",
     "text": [
      "Unique values in OnlineBackup:\n",
      "No                     2231\n",
      "Yes                    1732\n",
      "No internet service    1080\n",
      "Name: OnlineBackup, dtype: int64\n",
      "\n"
     ]
    },
    {
     "data": {
      "image/png": "[encoded data removed]",
      "text/plain": [
       "<Figure size 600x400 with 1 Axes>"
      ]
     },
     "metadata": {},
     "output_type": "display_data"
    },
    {
     "name": "stdout",
     "output_type": "stream",
     "text": [
      "Unique values in DeviceProtection:\n",
      "No                     2219\n",
      "Yes                    1744\n",
      "No internet service    1080\n",
      "Name: DeviceProtection, dtype: int64\n",
      "\n"
     ]
    },
    {
     "data": {
      "image/png": "[encoded data removed]",
      "text/plain": [
       "<Figure size 600x400 with 1 Axes>"
      ]
     },
     "metadata": {},
     "output_type": "display_data"
    },
    {
     "name": "stdout",
     "output_type": "stream",
     "text": [
      "Unique values in TechSupport:\n",
      "No                     2472\n",
      "Yes                    1491\n",
      "No internet service    1080\n",
      "Name: TechSupport, dtype: int64\n",
      "\n"
     ]
    },
    {
     "data": {
      "image/png": "[encoded data removed]",
      "text/plain": [
       "<Figure size 600x400 with 1 Axes>"
      ]
     },
     "metadata": {},
     "output_type": "display_data"
    },
    {
     "name": "stdout",
     "output_type": "stream",
     "text": [
      "Unique values in StreamingTV:\n",
      "No                     2018\n",
      "Yes                    1945\n",
      "No internet service    1080\n",
      "Name: StreamingTV, dtype: int64\n",
      "\n"
     ]
    },
    {
     "data": {
      "image/png": "[encoded data removed]",
      "text/plain": [
       "<Figure size 600x400 with 1 Axes>"
      ]
     },
     "metadata": {},
     "output_type": "display_data"
    },
    {
     "name": "stdout",
     "output_type": "stream",
     "text": [
      "Unique values in StreamingMovies:\n",
      "Yes                    1982\n",
      "No                     1981\n",
      "No internet service    1080\n",
      "Name: StreamingMovies, dtype: int64\n",
      "\n"
     ]
    },
    {
     "data": {
      "image/png": "[encoded data removed]",
      "text/plain": [
       "<Figure size 600x400 with 1 Axes>"
      ]
     },
     "metadata": {},
     "output_type": "display_data"
    },
    {
     "name": "stdout",
     "output_type": "stream",
     "text": [
      "Unique values in Contract:\n",
      "Month-to-month    2744\n",
      "Two year          1244\n",
      "One year          1055\n",
      "Name: Contract, dtype: int64\n",
      "\n"
     ]
    },
    {
     "data": {
      "image/png": "[encoded data removed]",
      "text/plain": [
       "<Figure size 600x400 with 1 Axes>"
      ]
     },
     "metadata": {},
     "output_type": "display_data"
    },
    {
     "name": "stdout",
     "output_type": "stream",
     "text": [
      "Unique values in PaperlessBilling:\n",
      "Yes    2996\n",
      "No     2047\n",
      "Name: PaperlessBilling, dtype: int64\n",
      "\n"
     ]
    },
    {
     "data": {
      "image/png": "[encoded data removed]",
      "text/plain": [
       "<Figure size 600x400 with 1 Axes>"
      ]
     },
     "metadata": {},
     "output_type": "display_data"
    },
    {
     "name": "stdout",
     "output_type": "stream",
     "text": [
      "Unique values in PaymentMethod:\n",
      "Electronic check             1700\n",
      "Mailed check                 1128\n",
      "Bank transfer (automatic)    1125\n",
      "Credit card (automatic)      1090\n",
      "Name: PaymentMethod, dtype: int64\n",
      "\n"
     ]
    },
    {
     "data": {
      "image/png": "[encoded data removed]",
      "text/plain": [
       "<Figure size 600x400 with 1 Axes>"
      ]
     },
     "metadata": {},
     "output_type": "display_data"
    },
    {
     "name": "stdout",
     "output_type": "stream",
     "text": [
      "Unique values in Churn:\n",
      "No     3707\n",
      "Yes    1336\n",
      "Name: Churn, dtype: int64\n",
      "\n"
     ]
    }
   ],
   "source": [
    "# Iterate through each column\n",
    "for col in df.select_dtypes([\"object\"]).columns:\n",
    "    if col != 'churn':  # Skip the target column for now\n",
    "        unique_values = df[col].value_counts()\n",
    "        \n",
    "        # Create a bar plot for each column\n",
    "        plt.figure(figsize=(6, 4))\n",
    "        unique_values.plot(kind='bar', color='blue')\n",
    "        plt.title(f'{col} Distribution')\n",
    "        plt.xlabel(col)\n",
    "        plt.ylabel('Count')\n",
    "        plt.xticks(rotation=0)\n",
    "        plt.show()\n",
    "        \n",
    "        print(f\"Unique values in {col}:\")\n",
    "        print(unique_values)\n",
    "        print()"
   ]
  },
  {
   "cell_type": "markdown",
   "metadata": {},
   "source": [
    "#### Train and Evaluation using LogisticRegression Model balancing with SMOTE (Synthetic Minority Over-sampling Technique)"
   ]
  },
  {
   "cell_type": "code",
   "execution_count": 58,
   "metadata": {},
   "outputs": [
    {
     "name": "stdout",
     "output_type": "stream",
     "text": [
      "              precision    recall  f1-score   support\n",
      "\n",
      "          No       0.84      0.87      0.85       734\n",
      "         Yes       0.61      0.55      0.58       275\n",
      "\n",
      "    accuracy                           0.78      1009\n",
      "   macro avg       0.72      0.71      0.72      1009\n",
      "weighted avg       0.78      0.78      0.78      1009\n",
      "\n",
      "F2-Score: 0.72\n"
     ]
    }
   ],
   "source": [
    "# Create the pipeline with Logistic Regression\n",
    "logreg_model = LogisticRegression(random_state=42)\n",
    "\n",
    "smote = SMOTE(random_state=42)\n",
    "\n",
    "pipeline = ImblearnPipeline([('preprocessor', preprocessor),\n",
    "                             ('smote', smote),\n",
    "                           ('classifier', logreg_model)])\n",
    "\n",
    "# Fit the model\n",
    "pipeline.fit(X_train, y_train)\n",
    "\n",
    "# Make predictions\n",
    "y_pred = pipeline.predict(X_test)\n",
    "\n",
    "# Calculate F2-score using custom beta value\n",
    "custom_beta = 2\n",
    "F2_score = fbeta_score(y_test, y_pred, beta=custom_beta, pos_label='Yes')\n",
    "\n",
    "# Classification report\n",
    "class_names = ['Not Churn', 'Churn']\n",
    "lreg_models = classification_report(y_test, y_pred, target_names=class_names, output_dict=True)\n",
    "print(classification_rep)\n",
    "print(f\"F2-Score: {F2_score:.2f}\")\n",
    "\n",
    "F1_score = f1_score(y_test, y_pred, pos_label='No')\n",
    "Recall = recall_score(y_test, y_pred, pos_label='No')\n",
    "Precision = precision_score(y_test, y_pred, pos_label='No')\n",
    "\n",
    "route = {'model': \"LREG_s\", 'Precision': round(Precision,3), 'Recall': round(Recall,3), 'F1-score': round(F1_score, 3), 'F2_score': round(F2_score, 3)}\n",
    "\n",
    "\n",
    "\n",
    "eval = eval.append(route, ignore_index='True')"
   ]
  },
  {
   "cell_type": "markdown",
   "metadata": {},
   "source": [
    "#### Train and Evaluation using LogisticRegression Model balancing with Class weight"
   ]
  },
  {
   "cell_type": "code",
   "execution_count": 59,
   "metadata": {
    "tags": []
   },
   "outputs": [
    {
     "name": "stdout",
     "output_type": "stream",
     "text": [
      "              precision    recall  f1-score   support\n",
      "\n",
      "          No       0.84      0.87      0.85       734\n",
      "         Yes       0.61      0.55      0.58       275\n",
      "\n",
      "    accuracy                           0.78      1009\n",
      "   macro avg       0.72      0.71      0.72      1009\n",
      "weighted avg       0.78      0.78      0.78      1009\n",
      "\n",
      "F2-Score: 0.73\n"
     ]
    }
   ],
   "source": [
    "# Create the pipeline with Logistic Regression\n",
    "logreg_model = LogisticRegression(class_weight=\"balanced\", random_state=42)\n",
    "\n",
    "pipeline = Pipeline([('preprocessor', preprocessor),\n",
    "                     ('classifier', logreg_model)])\n",
    "\n",
    "# Fit the model\n",
    "pipeline.fit(X_train, y_train)\n",
    "\n",
    "# Make predictions\n",
    "y_pred = pipeline.predict(X_test)\n",
    "\n",
    "# Calculate F2-score using custom beta value\n",
    "custom_beta = 2\n",
    "\n",
    "F2_score = fbeta_score(y_test, y_pred, beta=custom_beta, pos_label='Yes')\n",
    "\n",
    "# Classification report\n",
    "class_names = ['Not Churn', 'Churn']\n",
    "lreg_modelw = classification_report(y_test, y_pred, target_names=class_names, output_dict=True)\n",
    "print(classification_rep)\n",
    "print(f\"F2-Score: {F2_score:.2f}\")\n",
    "\n",
    "F1_score = f1_score(y_test, y_pred, pos_label='No')\n",
    "Recall = recall_score(y_test, y_pred, pos_label='No')\n",
    "Precision = precision_score(y_test, y_pred, pos_label='No')\n",
    "\n",
    "route = {'model': \"LREG_cw\", 'Precision': round(Precision,3), 'Recall': round(Recall,3), 'F1-score': round(F1_score, 3), 'F2_score': round(F2_score, 3)}\n",
    "\n",
    "\n",
    "\n",
    "eval = eval.append(route, ignore_index='True')"
   ]
  },
  {
   "cell_type": "code",
   "execution_count": 60,
   "metadata": {
    "tags": []
   },
   "outputs": [
    {
     "data": {
      "text/html": [
       "<div>\n",
       "<style scoped>\n",
       "    .dataframe tbody tr th:only-of-type {\n",
       "        vertical-align: middle;\n",
       "    }\n",
       "\n",
       "    .dataframe tbody tr th {\n",
       "        vertical-align: top;\n",
       "    }\n",
       "\n",
       "    .dataframe thead th {\n",
       "        text-align: right;\n",
       "    }\n",
       "</style>\n",
       "<table border=\"1\" class=\"dataframe\">\n",
       "  <thead>\n",
       "    <tr style=\"text-align: right;\">\n",
       "      <th></th>\n",
       "      <th>model</th>\n",
       "      <th>Precision</th>\n",
       "      <th>Recall</th>\n",
       "      <th>F1-score</th>\n",
       "      <th>F2_score</th>\n",
       "    </tr>\n",
       "  </thead>\n",
       "  <tbody>\n",
       "    <tr>\n",
       "      <th>0</th>\n",
       "      <td>LREG</td>\n",
       "      <td>0.844</td>\n",
       "      <td>0.905</td>\n",
       "      <td>0.873</td>\n",
       "      <td>0.575</td>\n",
       "    </tr>\n",
       "    <tr>\n",
       "      <th>1</th>\n",
       "      <td>DTC</td>\n",
       "      <td>0.825</td>\n",
       "      <td>0.802</td>\n",
       "      <td>0.814</td>\n",
       "      <td>0.538</td>\n",
       "    </tr>\n",
       "    <tr>\n",
       "      <th>2</th>\n",
       "      <td>RFC</td>\n",
       "      <td>0.825</td>\n",
       "      <td>0.802</td>\n",
       "      <td>0.814</td>\n",
       "      <td>0.538</td>\n",
       "    </tr>\n",
       "    <tr>\n",
       "      <th>3</th>\n",
       "      <td>SVC</td>\n",
       "      <td>0.833</td>\n",
       "      <td>0.920</td>\n",
       "      <td>0.874</td>\n",
       "      <td>0.539</td>\n",
       "    </tr>\n",
       "    <tr>\n",
       "      <th>4</th>\n",
       "      <td>KNN</td>\n",
       "      <td>0.837</td>\n",
       "      <td>0.869</td>\n",
       "      <td>0.853</td>\n",
       "      <td>0.561</td>\n",
       "    </tr>\n",
       "    <tr>\n",
       "      <th>5</th>\n",
       "      <td>LREG_s</td>\n",
       "      <td>0.906</td>\n",
       "      <td>0.726</td>\n",
       "      <td>0.806</td>\n",
       "      <td>0.723</td>\n",
       "    </tr>\n",
       "    <tr>\n",
       "      <th>6</th>\n",
       "      <td>LREG_cw</td>\n",
       "      <td>0.909</td>\n",
       "      <td>0.723</td>\n",
       "      <td>0.806</td>\n",
       "      <td>0.728</td>\n",
       "    </tr>\n",
       "  </tbody>\n",
       "</table>\n",
       "</div>"
      ],
      "text/plain": [
       "     model  Precision  Recall  F1-score  F2_score\n",
       "0     LREG      0.844   0.905     0.873     0.575\n",
       "1      DTC      0.825   0.802     0.814     0.538\n",
       "2      RFC      0.825   0.802     0.814     0.538\n",
       "3      SVC      0.833   0.920     0.874     0.539\n",
       "4      KNN      0.837   0.869     0.853     0.561\n",
       "5   LREG_s      0.906   0.726     0.806     0.723\n",
       "6  LREG_cw      0.909   0.723     0.806     0.728"
      ]
     },
     "execution_count": 60,
     "metadata": {},
     "output_type": "execute_result"
    }
   ],
   "source": [
    "eval"
   ]
  },
  {
   "cell_type": "markdown",
   "metadata": {},
   "source": [
    "#### Train and Evaluation using Decision Tree Classifier balancing with SMOTE"
   ]
  },
  {
   "cell_type": "code",
   "execution_count": 61,
   "metadata": {
    "tags": []
   },
   "outputs": [
    {
     "name": "stdout",
     "output_type": "stream",
     "text": [
      "              precision    recall  f1-score   support\n",
      "\n",
      "   Not Churn       0.91      0.73      0.81       734\n",
      "       Churn       0.52      0.80      0.63       275\n",
      "\n",
      "    accuracy                           0.75      1009\n",
      "   macro avg       0.71      0.76      0.72      1009\n",
      "weighted avg       0.80      0.75      0.76      1009\n",
      "\n",
      "F2-Score: 0.72\n"
     ]
    }
   ],
   "source": [
    "# Create the pipeline with Decision Tree\n",
    "decision_tree_model = DecisionTreeClassifier(random_state=42)\n",
    "\n",
    "smote = SMOTE(random_state=42)\n",
    "\n",
    "pipeline = ImblearnPipeline([('preprocessor', preprocessor),\n",
    "                             ('smote', smote),\n",
    "                           ('classifier', logreg_model)])\n",
    "# Fit the model\n",
    "pipeline.fit(X_train, y_train)\n",
    "\n",
    "# Make predictions\n",
    "y_pred = pipeline.predict(X_test)\n",
    "\n",
    "# Calculate F2-score using custom beta value\n",
    "custom_beta = 2\n",
    "F2_score = fbeta_score(y_test, y_pred, beta=custom_beta, pos_label='Yes')\n",
    "\n",
    "# Classification report\n",
    "class_names = ['Not Churn', 'Churn']\n",
    "classification_rep = classification_report(y_test, y_pred, target_names=class_names)\n",
    "print(classification_rep)\n",
    "print(f\"F2-Score: {F2_score:.2f}\")\n",
    "\n",
    "F1_score = f1_score(y_test, y_pred, pos_label='No')\n",
    "Recall = recall_score(y_test, y_pred, pos_label='No')\n",
    "Precision = precision_score(y_test, y_pred, pos_label='No')\n",
    "\n",
    "route = {'model': \"DTC_s\", 'Precision': round(Precision,3), 'Recall': round(Recall,3), 'F1-score': round(F1_score, 3), 'F2_score': round(F2_score, 3)}\n",
    "\n",
    "\n",
    "\n",
    "eval = eval.append(route, ignore_index='True')"
   ]
  },
  {
   "cell_type": "markdown",
   "metadata": {},
   "source": [
    "#### Train and Evaluation using Decision Tree Classifier balancing with Class Weight"
   ]
  },
  {
   "cell_type": "code",
   "execution_count": 62,
   "metadata": {
    "tags": []
   },
   "outputs": [
    {
     "name": "stdout",
     "output_type": "stream",
     "text": [
      "              precision    recall  f1-score   support\n",
      "\n",
      "   Not Churn       0.91      0.72      0.81       734\n",
      "       Churn       0.52      0.81      0.63       275\n",
      "\n",
      "    accuracy                           0.75      1009\n",
      "   macro avg       0.72      0.77      0.72      1009\n",
      "weighted avg       0.80      0.75      0.76      1009\n",
      "\n",
      "F2-Score: 0.73\n"
     ]
    }
   ],
   "source": [
    "# Create the pipeline with Decision Tree\n",
    "decision_tree_model = DecisionTreeClassifier(class_weight=\"balanced\",random_state=42)\n",
    "\n",
    "\n",
    "pipeline = ImblearnPipeline([('preprocessor', preprocessor),\n",
    "                           ('classifier', logreg_model)])\n",
    "# Fit the model\n",
    "pipeline.fit(X_train, y_train)\n",
    "\n",
    "# Make predictions\n",
    "y_pred = pipeline.predict(X_test)\n",
    "\n",
    "# Calculate F2-score using custom beta value\n",
    "custom_beta = 2\n",
    "F2_score = fbeta_score(y_test, y_pred, beta=custom_beta, pos_label='Yes')\n",
    "\n",
    "# Classification report\n",
    "class_names = ['Not Churn', 'Churn']\n",
    "classification_rep = classification_report(y_test, y_pred, target_names=class_names)\n",
    "print(classification_rep)\n",
    "print(f\"F2-Score: {F2_score:.2f}\")\n",
    "\n",
    "F1_score = f1_score(y_test, y_pred, pos_label='No')\n",
    "Recall = recall_score(y_test, y_pred, pos_label='No')\n",
    "Precision = precision_score(y_test, y_pred, pos_label='No')\n",
    "\n",
    "route = {'model': \"DTC_cw\", 'Precision': round(Precision,3), 'Recall': round(Recall,3), 'F1-score': round(F1_score, 3), 'F2_score': round(F2_score, 3)}\n",
    "\n",
    "\n",
    "\n",
    "eval = eval.append(route, ignore_index='True')"
   ]
  },
  {
   "cell_type": "markdown",
   "metadata": {},
   "source": [
    "#### Train and Evaluation using Random Forest Classifier Balnacing with SMOTE"
   ]
  },
  {
   "cell_type": "code",
   "execution_count": 63,
   "metadata": {
    "tags": []
   },
   "outputs": [
    {
     "name": "stdout",
     "output_type": "stream",
     "text": [
      "              precision    recall  f1-score   support\n",
      "\n",
      "   Not Churn       0.91      0.72      0.81       734\n",
      "       Churn       0.52      0.81      0.63       275\n",
      "\n",
      "    accuracy                           0.75      1009\n",
      "   macro avg       0.72      0.77      0.72      1009\n",
      "weighted avg       0.80      0.75      0.76      1009\n",
      "\n",
      "F2-Score: 0.73\n"
     ]
    }
   ],
   "source": [
    "# Create the pipeline with Random Forest\n",
    "random_forest_model = RandomForestClassifier(random_state=42)\n",
    "\n",
    "smote = SMOTE(random_state=42)\n",
    "\n",
    "pipeline = ImblearnPipeline([('preprocessor', preprocessor),\n",
    "                             ('smote', smote),\n",
    "                           ('classifier', logreg_model)])\n",
    "\n",
    "# Fit the model\n",
    "pipeline.fit(X_train, y_train)\n",
    "\n",
    "# Calculate F2-score using custom beta value\n",
    "custom_beta = 2\n",
    "F2_score = fbeta_score(y_test, y_pred, beta=custom_beta, pos_label='Yes')\n",
    "\n",
    "# Classification report\n",
    "class_names = ['Not Churn', 'Churn']\n",
    "classification_rep = classification_report(y_test, y_pred, target_names=class_names)\n",
    "print(classification_rep)\n",
    "print(f\"F2-Score: {F2_score:.2f}\")\n",
    "\n",
    "F1_score = f1_score(y_test, y_pred, pos_label='No')\n",
    "Recall = recall_score(y_test, y_pred, pos_label='No')\n",
    "Precision = precision_score(y_test, y_pred, pos_label='No')\n",
    "\n",
    "route = {'model': \"RFC_s\", 'Precision': round(Precision,3), 'Recall': round(Recall,3), 'F1-score': round(F1_score, 3), 'F2_score': round(F2_score, 3)}\n",
    "\n",
    "\n",
    "\n",
    "eval = eval.append(route, ignore_index='True')"
   ]
  },
  {
   "cell_type": "markdown",
   "metadata": {},
   "source": [
    "#### Train and Evaluation using Random Forest Classifier Balnacing with Class Weight"
   ]
  },
  {
   "cell_type": "code",
   "execution_count": 64,
   "metadata": {},
   "outputs": [
    {
     "name": "stdout",
     "output_type": "stream",
     "text": [
      "              precision    recall  f1-score   support\n",
      "\n",
      "   Not Churn       0.91      0.72      0.81       734\n",
      "       Churn       0.52      0.81      0.63       275\n",
      "\n",
      "    accuracy                           0.75      1009\n",
      "   macro avg       0.72      0.77      0.72      1009\n",
      "weighted avg       0.80      0.75      0.76      1009\n",
      "\n",
      "F2-Score: 0.73\n"
     ]
    }
   ],
   "source": [
    "# Create the pipeline with Random Forest\n",
    "random_forest_model = RandomForestClassifier(class_weight=\"balanced\",random_state=42)\n",
    "\n",
    "\n",
    "pipeline = ImblearnPipeline([('preprocessor', preprocessor),\n",
    "                           ('classifier', logreg_model)])\n",
    "\n",
    "# Fit the model\n",
    "pipeline.fit(X_train, y_train)\n",
    "\n",
    "# Calculate F2-score using custom beta value\n",
    "custom_beta = 2\n",
    "F2_score = fbeta_score(y_test, y_pred, beta=custom_beta, pos_label='Yes')\n",
    "\n",
    "# Classification report\n",
    "class_names = ['Not Churn', 'Churn']\n",
    "classification_rep = classification_report(y_test, y_pred, target_names=class_names)\n",
    "print(classification_rep)\n",
    "print(f\"F2-Score: {F2_score:.2f}\")\n",
    "\n",
    "F1_score = f1_score(y_test, y_pred, pos_label='No')\n",
    "Recall = recall_score(y_test, y_pred, pos_label='No')\n",
    "Precision = precision_score(y_test, y_pred, pos_label='No')\n",
    "\n",
    "route = {'model': \"RFC_cw\", 'Precision': round(Precision,3), 'Recall': round(Recall,3), 'F1-score': round(F1_score, 3), 'F2_score': round(F2_score, 3)}\n",
    "\n",
    "\n",
    "\n",
    "eval = eval.append(route, ignore_index='True')"
   ]
  },
  {
   "cell_type": "markdown",
   "metadata": {},
   "source": [
    "#### Train and Evaluation using Decision Support Vector Classifier (SVC) balancing with SMOTE"
   ]
  },
  {
   "cell_type": "code",
   "execution_count": 65,
   "metadata": {
    "tags": []
   },
   "outputs": [
    {
     "name": "stdout",
     "output_type": "stream",
     "text": [
      "              precision    recall  f1-score   support\n",
      "\n",
      "          No       0.91      0.73      0.81       734\n",
      "         Yes       0.52      0.80      0.63       275\n",
      "\n",
      "    accuracy                           0.75      1009\n",
      "   macro avg       0.71      0.76      0.72      1009\n",
      "weighted avg       0.80      0.75      0.76      1009\n",
      "\n",
      "F2-Score: 0.72\n"
     ]
    }
   ],
   "source": [
    "# Create the pipeline with Support Vector Classifier (SVC)\n",
    "svc_model = SVC(random_state=42)\n",
    "\n",
    "smote = SMOTE(random_state=42)\n",
    "\n",
    "pipeline = ImblearnPipeline([('preprocessor', preprocessor),\n",
    "                             ('smote', smote),\n",
    "                           ('classifier', logreg_model)])\n",
    "\n",
    "# Fit the model\n",
    "pipeline.fit(X_train, y_train)\n",
    "\n",
    "# Make predictions\n",
    "y_pred = pipeline.predict(X_test)\n",
    "\n",
    "# Calculate F2-score using custom beta value and pos_label\n",
    "custom_beta = 2\n",
    "F2_score = fbeta_score(y_test, y_pred, beta=custom_beta, pos_label='Yes')\n",
    "\n",
    "# Classification report\n",
    "class_names = ['No', 'Yes']\n",
    "classification_rep = classification_report(y_test, y_pred, target_names=class_names)\n",
    "print(classification_rep)\n",
    "print(f\"F2-Score: {F2_score:.2f}\")\n",
    "\n",
    "F1_score = f1_score(y_test, y_pred, pos_label='No')\n",
    "Recall = recall_score(y_test, y_pred, pos_label='No')\n",
    "Precision = precision_score(y_test, y_pred, pos_label='No')\n",
    "\n",
    "route = {'model': \"SVC_s\", 'Precision': round(Precision,3), 'Recall': round(Recall,3), 'F1-score': round(F1_score, 3), 'F2_score': round(F2_score, 3)}\n",
    "\n",
    "\n",
    "\n",
    "eval = eval.append(route, ignore_index='True')"
   ]
  },
  {
   "cell_type": "markdown",
   "metadata": {},
   "source": [
    "#### Train and Evaluation using Decision Support Vector Classifier (SVC) with Class Weight"
   ]
  },
  {
   "cell_type": "code",
   "execution_count": 66,
   "metadata": {
    "tags": []
   },
   "outputs": [
    {
     "name": "stdout",
     "output_type": "stream",
     "text": [
      "              precision    recall  f1-score   support\n",
      "\n",
      "          No       0.91      0.72      0.81       734\n",
      "         Yes       0.52      0.81      0.63       275\n",
      "\n",
      "    accuracy                           0.75      1009\n",
      "   macro avg       0.72      0.77      0.72      1009\n",
      "weighted avg       0.80      0.75      0.76      1009\n",
      "\n",
      "F2-Score: 0.73\n"
     ]
    }
   ],
   "source": [
    "# Create the pipeline with Support Vector Classifier (SVC)\n",
    "svc_model = SVC(class_weight=\"balanced\",random_state=42)\n",
    "\n",
    "pipeline = ImblearnPipeline([('preprocessor', preprocessor),\n",
    "                           ('classifier', logreg_model)])\n",
    "\n",
    "# Fit the model\n",
    "pipeline.fit(X_train, y_train)\n",
    "\n",
    "# Make predictions\n",
    "y_pred = pipeline.predict(X_test)\n",
    "\n",
    "# Calculate F2-score using custom beta value and pos_label\n",
    "custom_beta = 2\n",
    "F2_score = fbeta_score(y_test, y_pred, beta=custom_beta, pos_label='Yes')\n",
    "\n",
    "# Classification report\n",
    "class_names = ['No', 'Yes']\n",
    "classification_rep = classification_report(y_test, y_pred, target_names=class_names)\n",
    "print(classification_rep)\n",
    "print(f\"F2-Score: {F2_score:.2f}\")\n",
    "\n",
    "F1_score = f1_score(y_test, y_pred, pos_label='No')\n",
    "Recall = recall_score(y_test, y_pred, pos_label='No')\n",
    "Precision = precision_score(y_test, y_pred, pos_label='No')\n",
    "\n",
    "route = {'model': \"SVC_cw\", 'Precision': round(Precision,3), 'Recall': round(Recall,3), 'F1-score': round(F1_score, 3), 'F2_score': round(F2_score, 3)}\n",
    "\n",
    "\n",
    "\n",
    "eval = eval.append(route, ignore_index='True')"
   ]
  },
  {
   "cell_type": "markdown",
   "metadata": {},
   "source": [
    "#### Train and Evaluation using KNeighbors Classifier balancing with SMOTE"
   ]
  },
  {
   "cell_type": "code",
   "execution_count": 67,
   "metadata": {
    "tags": []
   },
   "outputs": [
    {
     "name": "stdout",
     "output_type": "stream",
     "text": [
      "              precision    recall  f1-score   support\n",
      "\n",
      "          No       0.91      0.73      0.81       734\n",
      "         Yes       0.52      0.80      0.63       275\n",
      "\n",
      "    accuracy                           0.75      1009\n",
      "   macro avg       0.71      0.76      0.72      1009\n",
      "weighted avg       0.80      0.75      0.76      1009\n",
      "\n",
      "F2-Score: 0.72\n"
     ]
    }
   ],
   "source": [
    "# Create the pipeline with KNeighborsClassifier\n",
    "knn_model = KNeighborsClassifier()\n",
    "\n",
    "smote = SMOTE(random_state=42)\n",
    "\n",
    "pipeline = ImblearnPipeline([('preprocessor', preprocessor),\n",
    "                             ('smote', smote),\n",
    "                           ('classifier', logreg_model)])\n",
    "\n",
    "# Fit the model\n",
    "pipeline.fit(X_train, y_train)\n",
    "\n",
    "# Make predictions\n",
    "y_pred = pipeline.predict(X_test)\n",
    "\n",
    "# Calculate F2-score using custom beta value and pos_label\n",
    "custom_beta = 2\n",
    "F2_score = fbeta_score(y_test, y_pred, beta=custom_beta, pos_label='Yes')\n",
    "\n",
    "# Classification report\n",
    "class_names = ['No', 'Yes']\n",
    "classification_rep = classification_report(y_test, y_pred, target_names=class_names)\n",
    "print(classification_rep)\n",
    "print(f\"F2-Score: {F2_score:.2f}\")\n",
    "\n",
    "F1_score = f1_score(y_test, y_pred, pos_label='No')\n",
    "Recall = recall_score(y_test, y_pred, pos_label='No')\n",
    "Precision = precision_score(y_test, y_pred, pos_label='No')\n",
    "\n",
    "route = {'model': \"KNN_s\", 'Precision': round(Precision,3), 'Recall': round(Recall,3), 'F1-score': round(F1_score, 3), 'F2_score': round(F2_score, 3)}\n",
    "\n",
    "\n",
    "\n",
    "eval = eval.append(route, ignore_index='True')"
   ]
  },
  {
   "cell_type": "markdown",
   "metadata": {},
   "source": [
    "#### Train and Evaluation using KNeighbors Classifier balancing with Ransom Over Sampler"
   ]
  },
  {
   "cell_type": "code",
   "execution_count": 68,
   "metadata": {
    "tags": []
   },
   "outputs": [
    {
     "name": "stdout",
     "output_type": "stream",
     "text": [
      "              precision    recall  f1-score   support\n",
      "\n",
      "          No       0.87      0.68      0.76       734\n",
      "         Yes       0.46      0.73      0.56       275\n",
      "\n",
      "    accuracy                           0.69      1009\n",
      "   macro avg       0.66      0.70      0.66      1009\n",
      "weighted avg       0.76      0.69      0.71      1009\n",
      "\n",
      "F2-Score: 0.65\n"
     ]
    }
   ],
   "source": [
    "# Create a RandomOverSampler instance\n",
    "oversampler = RandomOverSampler(random_state=42)\n",
    "\n",
    "# Create an imblearn pipeline that includes preprocessing, oversampling, and a KNeighborsClassifier\n",
    "pipeline = ImblearnPipeline([\n",
    "    ('preprocessor', preprocessor),\n",
    "    ('oversampler', oversampler),\n",
    "    ('classifier', KNeighborsClassifier())\n",
    "])\n",
    "\n",
    "# Fit the pipeline on the training data\n",
    "pipeline.fit(X_train, y_train)\n",
    "\n",
    "# Make predictions on the test data\n",
    "y_pred = pipeline.predict(X_test)\n",
    "\n",
    "# Calculate F2-score using custom beta value and pos_label\n",
    "custom_beta = 2\n",
    "F2_score = fbeta_score(y_test, y_pred, beta=custom_beta, pos_label='Yes')\n",
    "\n",
    "# Classification report\n",
    "class_names = ['No', 'Yes']\n",
    "classification_rep = classification_report(y_test, y_pred, target_names=class_names)\n",
    "print(classification_rep)\n",
    "print(f\"F2-Score: {F2_score:.2f}\")\n",
    "\n",
    "F1_score = f1_score(y_test, y_pred, pos_label='No')\n",
    "Recall = recall_score(y_test, y_pred, pos_label='No')\n",
    "Precision = precision_score(y_test, y_pred, pos_label='No')\n",
    "\n",
    "route = {'model': \"KNN_ros\", 'Precision': round(Precision,3), 'Recall': round(Recall,3), 'F1-score': round(F1_score, 3), 'F2_score': round(F2_score, 3)}\n",
    "\n",
    "\n",
    "\n",
    "eval = eval.append(route, ignore_index='True')"
   ]
  },
  {
   "cell_type": "code",
   "execution_count": 69,
   "metadata": {},
   "outputs": [
    {
     "data": {
      "text/html": [
       "<div>\n",
       "<style scoped>\n",
       "    .dataframe tbody tr th:only-of-type {\n",
       "        vertical-align: middle;\n",
       "    }\n",
       "\n",
       "    .dataframe tbody tr th {\n",
       "        vertical-align: top;\n",
       "    }\n",
       "\n",
       "    .dataframe thead th {\n",
       "        text-align: right;\n",
       "    }\n",
       "</style>\n",
       "<table border=\"1\" class=\"dataframe\">\n",
       "  <thead>\n",
       "    <tr style=\"text-align: right;\">\n",
       "      <th></th>\n",
       "      <th>model</th>\n",
       "      <th>Precision</th>\n",
       "      <th>Recall</th>\n",
       "      <th>F1-score</th>\n",
       "      <th>F2_score</th>\n",
       "    </tr>\n",
       "  </thead>\n",
       "  <tbody>\n",
       "    <tr>\n",
       "      <th>0</th>\n",
       "      <td>LREG</td>\n",
       "      <td>0.844</td>\n",
       "      <td>0.905</td>\n",
       "      <td>0.873</td>\n",
       "      <td>0.575</td>\n",
       "    </tr>\n",
       "    <tr>\n",
       "      <th>1</th>\n",
       "      <td>DTC</td>\n",
       "      <td>0.825</td>\n",
       "      <td>0.802</td>\n",
       "      <td>0.814</td>\n",
       "      <td>0.538</td>\n",
       "    </tr>\n",
       "    <tr>\n",
       "      <th>2</th>\n",
       "      <td>RFC</td>\n",
       "      <td>0.825</td>\n",
       "      <td>0.802</td>\n",
       "      <td>0.814</td>\n",
       "      <td>0.538</td>\n",
       "    </tr>\n",
       "    <tr>\n",
       "      <th>3</th>\n",
       "      <td>SVC</td>\n",
       "      <td>0.833</td>\n",
       "      <td>0.920</td>\n",
       "      <td>0.874</td>\n",
       "      <td>0.539</td>\n",
       "    </tr>\n",
       "    <tr>\n",
       "      <th>4</th>\n",
       "      <td>KNN</td>\n",
       "      <td>0.837</td>\n",
       "      <td>0.869</td>\n",
       "      <td>0.853</td>\n",
       "      <td>0.561</td>\n",
       "    </tr>\n",
       "    <tr>\n",
       "      <th>5</th>\n",
       "      <td>LREG_s</td>\n",
       "      <td>0.906</td>\n",
       "      <td>0.726</td>\n",
       "      <td>0.806</td>\n",
       "      <td>0.723</td>\n",
       "    </tr>\n",
       "    <tr>\n",
       "      <th>6</th>\n",
       "      <td>LREG_cw</td>\n",
       "      <td>0.909</td>\n",
       "      <td>0.723</td>\n",
       "      <td>0.806</td>\n",
       "      <td>0.728</td>\n",
       "    </tr>\n",
       "    <tr>\n",
       "      <th>7</th>\n",
       "      <td>DTC_s</td>\n",
       "      <td>0.906</td>\n",
       "      <td>0.726</td>\n",
       "      <td>0.806</td>\n",
       "      <td>0.723</td>\n",
       "    </tr>\n",
       "    <tr>\n",
       "      <th>8</th>\n",
       "      <td>DTC_cw</td>\n",
       "      <td>0.909</td>\n",
       "      <td>0.723</td>\n",
       "      <td>0.806</td>\n",
       "      <td>0.728</td>\n",
       "    </tr>\n",
       "    <tr>\n",
       "      <th>9</th>\n",
       "      <td>RFC_s</td>\n",
       "      <td>0.909</td>\n",
       "      <td>0.723</td>\n",
       "      <td>0.806</td>\n",
       "      <td>0.728</td>\n",
       "    </tr>\n",
       "    <tr>\n",
       "      <th>10</th>\n",
       "      <td>RFC_cw</td>\n",
       "      <td>0.909</td>\n",
       "      <td>0.723</td>\n",
       "      <td>0.806</td>\n",
       "      <td>0.728</td>\n",
       "    </tr>\n",
       "    <tr>\n",
       "      <th>11</th>\n",
       "      <td>SVC_s</td>\n",
       "      <td>0.906</td>\n",
       "      <td>0.726</td>\n",
       "      <td>0.806</td>\n",
       "      <td>0.723</td>\n",
       "    </tr>\n",
       "    <tr>\n",
       "      <th>12</th>\n",
       "      <td>SVC_cw</td>\n",
       "      <td>0.909</td>\n",
       "      <td>0.723</td>\n",
       "      <td>0.806</td>\n",
       "      <td>0.728</td>\n",
       "    </tr>\n",
       "    <tr>\n",
       "      <th>13</th>\n",
       "      <td>KNN_s</td>\n",
       "      <td>0.906</td>\n",
       "      <td>0.726</td>\n",
       "      <td>0.806</td>\n",
       "      <td>0.723</td>\n",
       "    </tr>\n",
       "    <tr>\n",
       "      <th>14</th>\n",
       "      <td>KNN_cw</td>\n",
       "      <td>0.870</td>\n",
       "      <td>0.677</td>\n",
       "      <td>0.762</td>\n",
       "      <td>0.653</td>\n",
       "    </tr>\n",
       "  </tbody>\n",
       "</table>\n",
       "</div>"
      ],
      "text/plain": [
       "      model  Precision  Recall  F1-score  F2_score\n",
       "0      LREG      0.844   0.905     0.873     0.575\n",
       "1       DTC      0.825   0.802     0.814     0.538\n",
       "2       RFC      0.825   0.802     0.814     0.538\n",
       "3       SVC      0.833   0.920     0.874     0.539\n",
       "4       KNN      0.837   0.869     0.853     0.561\n",
       "5    LREG_s      0.906   0.726     0.806     0.723\n",
       "6   LREG_cw      0.909   0.723     0.806     0.728\n",
       "7     DTC_s      0.906   0.726     0.806     0.723\n",
       "8    DTC_cw      0.909   0.723     0.806     0.728\n",
       "9     RFC_s      0.909   0.723     0.806     0.728\n",
       "10   RFC_cw      0.909   0.723     0.806     0.728\n",
       "11    SVC_s      0.906   0.726     0.806     0.723\n",
       "12   SVC_cw      0.909   0.723     0.806     0.728\n",
       "13    KNN_s      0.906   0.726     0.806     0.723\n",
       "14   KNN_cw      0.870   0.677     0.762     0.653"
      ]
     },
     "execution_count": 69,
     "metadata": {},
     "output_type": "execute_result"
    }
   ],
   "source": [
    "eval"
   ]
  },
  {
   "cell_type": "code",
   "execution_count": 80,
   "metadata": {
    "tags": []
   },
   "outputs": [
    {
     "name": "stdout",
     "output_type": "stream",
     "text": [
      "Cross-validation F2-scores: [0.74283811 0.75596817 0.73450135 0.69199457 0.70259209]\n",
      "Mean F2-score: 0.7255788570604437\n",
      "Standard deviation of F2-scores: 0.02431994511936797\n"
     ]
    }
   ],
   "source": [
    "from sklearn.model_selection import cross_val_score\n",
    "\n",
    "# Create the pipeline with Random Forest\n",
    "random_forest_model = RandomForestClassifier(class_weight=\"balanced\",random_state=42)\n",
    "\n",
    "\n",
    "pipeline = ImblearnPipeline([('preprocessor', preprocessor),\n",
    "                           ('classifier', logreg_model)])\n",
    "\n",
    "# Fit the model\n",
    "pipeline.fit(X_train, y_train)\n",
    "\n",
    "num_folds = 5\n",
    "\n",
    "# Define custom f2 scorer\n",
    "custom_beta = 2\n",
    "f2_scorer = make_scorer(fbeta_score, beta=custom_beta, pos_label='Yes')\n",
    "\n",
    "# Perform cross-validation using cross_val_score and StratifiedKFold\n",
    "cv = StratifiedKFold(n_splits=num_folds)\n",
    "scores = cross_val_score(pipeline, X, y, scoring=f2_scorer, cv=cv)\n",
    "\n",
    "# Print the cross-validation results\n",
    "print(\"Cross-validation F2-scores:\", scores)\n",
    "print(\"Mean F2-score:\", scores.mean())\n",
    "print(\"Standard deviation of F2-scores:\", scores.std())"
   ]
  },
  {
   "cell_type": "code",
   "execution_count": null,
   "metadata": {},
   "outputs": [],
   "source": []
  }
 ],
 "metadata": {
  "kernelspec": {
   "display_name": "Python 3 (ipykernel)",
   "language": "python",
   "name": "python3"
  },
  "language_info": {
   "codemirror_mode": {
    "name": "ipython",
    "version": 3
   },
   "file_extension": ".py",
   "mimetype": "text/x-python",
   "name": "python",
   "nbconvert_exporter": "python",
   "pygments_lexer": "ipython3",
   "version": "3.10.9"
  }
 },
 "nbformat": 4,
 "nbformat_minor": 4
}
